{
  "nbformat": 4,
  "nbformat_minor": 0,
  "metadata": {
    "colab": {
      "name": "Kinematic Redundant Robots.ipynb",
      "provenance": [],
      "authorship_tag": "ABX9TyPmXR5XIaz9WffWLymNeGcV",
      "include_colab_link": true
    },
    "kernelspec": {
      "name": "python3",
      "display_name": "Python 3"
    }
  },
  "cells": [
    {
      "cell_type": "markdown",
      "metadata": {
        "id": "view-in-github",
        "colab_type": "text"
      },
      "source": [
        "<a href=\"https://colab.research.google.com/github/cisimon7/Kinematics-of-Redundant-Robot/blob/main/Kinematic_Redundant_Robots.ipynb\" target=\"_parent\"><img src=\"https://colab.research.google.com/assets/colab-badge.svg\" alt=\"Open In Colab\"/></a>"
      ]
    },
    {
      "cell_type": "markdown",
      "metadata": {
        "id": "1AZT0oqHXzuW"
      },
      "source": [
        "# Kinematically Redundant Manipulators\r\n"
      ]
    },
    {
      "cell_type": "markdown",
      "metadata": {
        "id": "50JVcfbhqkal"
      },
      "source": [
        "#### Imports"
      ]
    },
    {
      "cell_type": "code",
      "metadata": {
        "id": "iUhUqoXQqowe"
      },
      "source": [
        "import time\r\n",
        "import numpy as np\r\n",
        "import sympy as sym\r\n",
        "sym.init_printing()\r\n",
        "import matplotlib.pyplot as plt\r\n",
        "from IPython.display import clear_output "
      ],
      "execution_count": null,
      "outputs": []
    },
    {
      "cell_type": "code",
      "metadata": {
        "id": "aJZPERW6qql7"
      },
      "source": [
        "np.set_printoptions(precision=4, suppress=True, linewidth=200)"
      ],
      "execution_count": null,
      "outputs": []
    },
    {
      "cell_type": "markdown",
      "metadata": {
        "id": "6IjnEDyPqIkI"
      },
      "source": [
        "#### Utilities"
      ]
    },
    {
      "cell_type": "markdown",
      "metadata": {
        "id": "S2jq-k3BqNS9"
      },
      "source": [
        "##### Rotation Matrices"
      ]
    },
    {
      "cell_type": "code",
      "metadata": {
        "id": "6udj9w1TphVd"
      },
      "source": [
        "def Rx(q):\r\n",
        "  T = np.array([[1,         0,          0, 0],\r\n",
        "                [0, np.cos(q), -np.sin(q), 0],\r\n",
        "                [0, np.sin(q),  np.cos(q), 0],\r\n",
        "                [0,         0,          0, 1]], dtype=float)\r\n",
        "  return T\r\n",
        "\r\n",
        "def Ry(q):\r\n",
        "  T = np.array([[ np.cos(q), 0, np.sin(q), 0],\r\n",
        "                [         0, 1,         0, 0],\r\n",
        "                [-np.sin(q), 0, np.cos(q), 0],\r\n",
        "                [         0, 0,         0, 1]], dtype=float)\r\n",
        "  return T\r\n",
        "\r\n",
        "def Rz(q):\r\n",
        "  T = np.array([[np.cos(q), -np.sin(q), 0, 0],\r\n",
        "                [np.sin(q),  np.cos(q), 0, 0],\r\n",
        "                [        0,          0, 1, 0],\r\n",
        "                [        0,          0, 0, 1]], dtype=float)\r\n",
        "  return T"
      ],
      "execution_count": null,
      "outputs": []
    },
    {
      "cell_type": "code",
      "metadata": {
        "id": "T-yjX1fb9bN3"
      },
      "source": [
        "def Rx_sym(q):\r\n",
        "  return sym.Matrix(\r\n",
        "      [[1, 0, 0, 0],\r\n",
        "        [0, sym.cos(q), -sym.sin(q), 0],\r\n",
        "        [0, sym.sin(q), sym.cos(q), 0],\r\n",
        "        [0, 0, 0, 1]]\r\n",
        "  )\r\n",
        "\r\n",
        "def Ry_sym(q):\r\n",
        "  return sym.Matrix(\r\n",
        "      [[sym.cos(q), 0, sym.sin(q), 0],\r\n",
        "        [0, 1, 0, 0],\r\n",
        "        [-sym.sin(q), 0, sym.cos(q), 0],\r\n",
        "        [0, 0, 0, 1]]\r\n",
        "  )\r\n",
        "\r\n",
        "def Rz_sym(q):\r\n",
        "  return sym.Matrix(\r\n",
        "      [[sym.cos(q), -sym.sin(q), 0, 0],\r\n",
        "        [sym.sin(q), sym.cos(q), 0, 0],\r\n",
        "        [0, 0, 1, 0],\r\n",
        "        [0, 0, 0, 1]]\r\n",
        "  )"
      ],
      "execution_count": null,
      "outputs": []
    },
    {
      "cell_type": "markdown",
      "metadata": {
        "id": "WVXN7wWaqRRE"
      },
      "source": [
        "##### Rotation Derivative Matrices"
      ]
    },
    {
      "cell_type": "code",
      "metadata": {
        "id": "cxBz18DRpxzW"
      },
      "source": [
        "def d_Rx(q):\r\n",
        "  T = np.array([[0,          0,          0, 0],\r\n",
        "                [0, -np.sin(q), -np.cos(q), 0],\r\n",
        "                [0,  np.cos(q), -np.sin(q), 0],\r\n",
        "                [0,          0,          0, 0]], dtype=float)\r\n",
        "  return T\r\n",
        "\r\n",
        "def d_Ry(q):\r\n",
        "  T = np.array([[-np.sin(q), 0,  np.cos(q), 0],\r\n",
        "                [         0, 0,          0, 0],\r\n",
        "                [-np.cos(q), 0, -np.sin(q), 0],\r\n",
        "                [         0, 0,          0, 0]], dtype=float)\r\n",
        "  return T\r\n",
        "\r\n",
        "def d_Rz(q):\r\n",
        "  T = np.array([[-np.sin(q), -np.cos(q), 0, 0],\r\n",
        "                [ np.cos(q), -np.sin(q), 0, 0],\r\n",
        "                [         0,          0, 0, 0],\r\n",
        "                [         0,          0, 0, 0]], dtype=float)\r\n",
        "  return T"
      ],
      "execution_count": null,
      "outputs": []
    },
    {
      "cell_type": "code",
      "metadata": {
        "id": "6bh0XTXo9S1R"
      },
      "source": [
        "def d_Rx_sym(q):\r\n",
        "  return sym.Matrix(\r\n",
        "      [[0, 0, 0, 0],\r\n",
        "        [0, -sym.sin(q), -sym.cos(q), 0],\r\n",
        "        [0, sym.cos(q), -sym.sin(q), 0],\r\n",
        "        [0, 0, 0, 0]]\r\n",
        "  )\r\n",
        "\r\n",
        "def d_Ry_sym(q):\r\n",
        "  return sym.Matrix(\r\n",
        "      [[-sym.sin(q), 0, sym.cos(q), 0],\r\n",
        "        [0, 0, 0, 0],\r\n",
        "        [-sym.cos(q), 0, -sym.sin(q), 0],\r\n",
        "        [0, 0, 0, 0]]\r\n",
        "  )\r\n",
        "\r\n",
        "def d_Rz_sym(q):\r\n",
        "  return sym.Matrix(\r\n",
        "      [[-sym.sin(q), -sym.cos(q), 0, 0],\r\n",
        "        [sym.cos(q), -sym.sin(q), 0, 0],\r\n",
        "        [0, 0, 0, 0],\r\n",
        "        [0, 0, 0, 0]])"
      ],
      "execution_count": null,
      "outputs": []
    },
    {
      "cell_type": "markdown",
      "metadata": {
        "id": "38a4KTnHqYZn"
      },
      "source": [
        "##### Translation Matrices"
      ]
    },
    {
      "cell_type": "code",
      "metadata": {
        "id": "vgu1J8eap0Yl"
      },
      "source": [
        "def Tx(x):\r\n",
        "  T = np.array([[1, 0, 0, x],\r\n",
        "                [0, 1, 0, 0],\r\n",
        "                [0, 0, 1, 0],\r\n",
        "                [0, 0, 0, 1]], dtype=float)\r\n",
        "  return T\r\n",
        "\r\n",
        "def Ty(y):\r\n",
        "  T = np.array([[1, 0, 0, 0],\r\n",
        "                [0, 1, 0, y],\r\n",
        "                [0, 0, 1, 0],\r\n",
        "                [0, 0, 0, 1]], dtype=float)\r\n",
        "  return T\r\n",
        "\r\n",
        "def Tz(z):\r\n",
        "  T = np.array([[1, 0, 0, 0],\r\n",
        "                [0, 1, 0, 0],\r\n",
        "                [0, 0, 1, z],\r\n",
        "                [0, 0, 0, 1]], dtype=float)\r\n",
        "  return T"
      ],
      "execution_count": null,
      "outputs": []
    },
    {
      "cell_type": "code",
      "metadata": {
        "id": "wtuYOv_iHQ5L"
      },
      "source": [
        "def Tx_sym(s):\r\n",
        "  return sym.Matrix(\r\n",
        "      [[1, 0, 0, s],\r\n",
        "        [0, 1, 0, 0],\r\n",
        "        [0, 0, 1, 0],\r\n",
        "        [0, 0, 0, 1]]\r\n",
        "  )\r\n",
        "\r\n",
        "def Ty_sym(s):\r\n",
        "  return sym.Matrix(\r\n",
        "      [[1, 0, 0, 0],\r\n",
        "        [0, 1, 0, s],\r\n",
        "        [0, 0, 1, 0],\r\n",
        "        [0, 0, 0, 1]]\r\n",
        "  )\r\n",
        "\r\n",
        "def Tz_sym(s):\r\n",
        "  return sym.Matrix(\r\n",
        "      [[1, 0, 0, 0],\r\n",
        "        [0, 1, 0, 0],\r\n",
        "        [0, 0, 1, s],\r\n",
        "        [0, 0, 0, 1]]\r\n",
        "  )"
      ],
      "execution_count": null,
      "outputs": []
    },
    {
      "cell_type": "markdown",
      "metadata": {
        "id": "ASwolU4Hqa_d"
      },
      "source": [
        "##### Translation Derivative Matrices"
      ]
    },
    {
      "cell_type": "code",
      "metadata": {
        "id": "RrcGE8WepgLS"
      },
      "source": [
        "def d_Tx(x):\r\n",
        "  T = np.array([[0, 0, 0, 1],\r\n",
        "                [0, 0, 0, 0],\r\n",
        "                [0, 0, 0, 0],\r\n",
        "                [0, 0, 0, 0]], dtype=float)\r\n",
        "  return T\r\n",
        "\r\n",
        "def d_Ty(y):\r\n",
        "  T = np.array([[0, 0, 0, 0],\r\n",
        "                [0, 0, 0, 1],\r\n",
        "                [0, 0, 0, 0],\r\n",
        "                [0, 0, 0, 0]], dtype=float)\r\n",
        "  return T\r\n",
        "\r\n",
        "def d_Tz(z):\r\n",
        "  T = np.array([[0, 0, 0, 0],\r\n",
        "                [0, 0, 0, 0],\r\n",
        "                [0, 0, 0, 1],\r\n",
        "                [0, 0, 0, 0]], dtype=float)\r\n",
        "  return T"
      ],
      "execution_count": null,
      "outputs": []
    },
    {
      "cell_type": "code",
      "metadata": {
        "id": "Dv-Dr3qy9Jkw"
      },
      "source": [
        "def d_Tx_sym():\r\n",
        "  return sym.Matrix(\r\n",
        "      [[0, 0, 0, 1],\r\n",
        "        [0, 0, 0, 0],\r\n",
        "        [0, 0, 0, 0],\r\n",
        "        [0, 0, 0, 0]]\r\n",
        "  )\r\n",
        "\r\n",
        "def d_Ty_sym():\r\n",
        "  return sym.Matrix(\r\n",
        "      [[0, 0, 0, 0],\r\n",
        "        [0, 0, 0, 1],\r\n",
        "        [0, 0, 0, 0],\r\n",
        "        [0, 0, 0, 0]]\r\n",
        "  )\r\n",
        "\r\n",
        "def d_Tz_sym():\r\n",
        "  return sym.Matrix(\r\n",
        "      [[0, 0, 0, 0],\r\n",
        "        [0, 0, 0, 0],\r\n",
        "        [0, 0, 0, 1],\r\n",
        "        [0, 0, 0, 0]]\r\n",
        "  )"
      ],
      "execution_count": null,
      "outputs": []
    },
    {
      "cell_type": "markdown",
      "metadata": {
        "id": "J5dmts0l5OGc"
      },
      "source": [
        "##### Euler Angles from Rotation Matrix"
      ]
    },
    {
      "cell_type": "code",
      "metadata": {
        "id": "tvdrJVDD5NYo"
      },
      "source": [
        "def euler_angles(R, sndSol=True):\r\n",
        "  if (np.abs(R[2,0]) != 1):\r\n",
        "    theta1 = - np.arcsin(R[2,0])\r\n",
        "    theta2 = np.pi - theta1\r\n",
        "\r\n",
        "    psi1 = np.arctan2((R[2,1]/np.cos(theta1)), (R[2,2]/np.cos(theta1)))\r\n",
        "    psi2 = np.arctan2((R[2,1]/np.cos(theta2)), (R[2,2]/np.cos(theta2)))\r\n",
        "\r\n",
        "    phi1 = np.arctan2((R[1,0]/np.cos(theta1)), (R[0,0]/np.cos(theta1)))\r\n",
        "    phi2 = np.arctan2((R[1,0]/np.cos(theta2)), (R[0,0]/np.cos(theta2)))\r\n",
        "\r\n",
        "    if sndSol:\r\n",
        "      phi, theta, psi = phi1, theta1, psi1\r\n",
        "    else:\r\n",
        "      phi, theta, psi = phi2, theta2, psi2\r\n",
        "  else:\r\n",
        "    phi = 0\r\n",
        "\r\n",
        "    if (R[2,0] == -1):\r\n",
        "      theta = np.pi/2\r\n",
        "      psi = phi + np.arctan2(R[0,1]/R[0,2])\r\n",
        "    else:\r\n",
        "      theta = -np.pi/2\r\n",
        "      psi = -phi + np.arctan2(-R[0,1], -R[0,2])\r\n",
        "  \r\n",
        "  return [phi, theta, psi]"
      ],
      "execution_count": null,
      "outputs": []
    },
    {
      "cell_type": "markdown",
      "metadata": {
        "id": "pNx2SjJEjpJU"
      },
      "source": [
        "#### Joint Parameters And Trajectory Defined"
      ]
    },
    {
      "cell_type": "code",
      "metadata": {
        "id": "hFUfuQCN06Q5"
      },
      "source": [
        "# Length of Links\r\n",
        "a1, a2, a3, a4 = 1, 1, 1, 1\r\n",
        "\r\n",
        "P = np.sin(np.linspace(-2.5,2.5))"
      ],
      "execution_count": null,
      "outputs": []
    },
    {
      "cell_type": "markdown",
      "metadata": {
        "id": "cqS-78OTfa_-"
      },
      "source": [
        "#### Kinematics"
      ]
    },
    {
      "cell_type": "code",
      "metadata": {
        "id": "ziutc7dDlsVm"
      },
      "source": [
        "def FK(joint_params):\r\n",
        "  \"\"\"\r\n",
        "  Joint variables consisting of 4 parameters\r\n",
        "  \"\"\"\r\n",
        "  joint_params = np.asarray(joint_params, dtype=float)\r\n",
        "  q1, q2, q3, q4 = joint_params\r\n",
        "  TF = np.linalg.multi_dot([ Rz(np.pi-q1), Tx(a1), Rz(-q2), Tx(a2), Rz(-q3), Tx(a3), Rz(-q4), Tx(a4) ])\r\n",
        "\r\n",
        "  return TF"
      ],
      "execution_count": null,
      "outputs": []
    },
    {
      "cell_type": "markdown",
      "metadata": {
        "id": "RpfpyS8zyELB"
      },
      "source": [
        "#### Jacobian"
      ]
    },
    {
      "cell_type": "code",
      "metadata": {
        "id": "0_OafFnx5OSK"
      },
      "source": [
        "def jacobian_sym():\r\n",
        "  q1, q2, q3, q4 = sym.symbols(\"q_1 q_2 q_3 q_4\", real=True)  \r\n",
        "\r\n",
        "  variables = [q1, q2, q3, q4]\r\n",
        "\r\n",
        "    #  Rz(q1),      Tx(a1),      Rz(q2),      Tx(a2),      Rz(q3),      Tx(a3),      Rz(q4),      Tx(a4)\r\n",
        "  TF = Rz_sym(sym.pi - q1) * Tx_sym(a1) * Rz_sym(-q2) * Tx_sym(a2) * Rz_sym(-q3) * Tx_sym(a3) * Rz_sym(-q4) * Tx_sym(a4) \r\n",
        "  R = TF[:3,:-1]\r\n",
        "  jacobian = sym.Matrix([])\r\n",
        "\r\n",
        "  for var in variables:\r\n",
        "      T_d  = sym.diff(TF, var)\r\n",
        "\r\n",
        "      T    = T_d[0:3, -1]\r\n",
        "      R_d  = T_d[0:3, :-1]\r\n",
        "      R_j  = R_d * R.T\r\n",
        "\r\n",
        "      J = T.row_insert(3, sym.Matrix([R_j[2,1], R_j[0,2], R_j[1,0]]))\r\n",
        "\r\n",
        "      jacobian = jacobian.col_insert(len(jacobian), J)\r\n",
        "\r\n",
        "  return sym.lambdify([variables], jacobian, \"numpy\")\r\n",
        "\r\n",
        "jacobian_sym_func = jacobian_sym()\r\n",
        "\r\n",
        "def jacobian(joint_params):\r\n",
        "    variables = [*joint_params]\r\n",
        "    return jacobian_sym_func(variables)"
      ],
      "execution_count": null,
      "outputs": []
    },
    {
      "cell_type": "markdown",
      "metadata": {
        "id": "HBS3ZfvGvlGT"
      },
      "source": [
        "#### Visualization"
      ]
    },
    {
      "cell_type": "code",
      "metadata": {
        "id": "8pWNxDP3wi3j"
      },
      "source": [
        "import plotly.express as px\r\n",
        "import plotly.io as pio\r\n",
        "import plotly.graph_objects as go"
      ],
      "execution_count": null,
      "outputs": []
    },
    {
      "cell_type": "code",
      "metadata": {
        "colab": {
          "base_uri": "https://localhost:8080/",
          "height": 737
        },
        "id": "L1eGjHc0vn6s",
        "outputId": "7a238b8d-4719-4794-bda6-afe6b6a2f81b"
      },
      "source": [
        "def plot_robot(q):\r\n",
        "\r\n",
        "  T01 = np.linalg.multi_dot([ Rz(np.pi-q[0]), Tx(a1) ])\r\n",
        "  T12 = np.linalg.multi_dot([ Rz(np.pi-q[0]), Tx(a1), Rz(-q[1]), Tx(1) ])\r\n",
        "  T23 = np.linalg.multi_dot([ Rz(np.pi-q[0]), Tx(a1), Rz(-q[1]), Tx(1) , Rz(-q[2]), Tx(a3) ])\r\n",
        "  T34 = np.linalg.multi_dot([ Rz(np.pi-q[0]), Tx(a1), Rz(-q[1]), Tx(1) , Rz(-q[2]), Tx(a3), Rz(-q[3]), Tx(a4) ])\r\n",
        "\r\n",
        "  x_pos = [0, T01[0,-1], T12[0,-1], T23[0,-1], T34[0,-1]]\r\n",
        "  y_pos = [0, T01[1,-1], T12[1,-1], T23[1,-1], T34[1,-1]]\r\n",
        "\r\n",
        "  fig = go.Figure()\r\n",
        "  fig.add_scatter3d(\r\n",
        "      x=x_pos,\r\n",
        "      y=[0.5, 0.5, 0.5, 0.5, 0.5],\r\n",
        "      z=y_pos,\r\n",
        "      line=dict( color='darkblue', width=15 ),\r\n",
        "      marker=dict(\r\n",
        "          size=10,\r\n",
        "          color=[0, 0.6, 1.4, 1, 0.5],\r\n",
        "          colorscale='Viridis',\r\n",
        "      )\r\n",
        "  )\r\n",
        "  fig.layout=dict(\r\n",
        "      width=1000,\r\n",
        "      height=700,\r\n",
        "      scene = dict( \r\n",
        "          camera=dict( eye={ 'x':0, 'y':-1.25, 'z':0.1 } ),\r\n",
        "          aspectratio={ 'x':1, 'y':0.25, 'z':0.5 },\r\n",
        "          xaxis_title='Robot x-axis',\r\n",
        "          yaxis_title='Robot z-axis',\r\n",
        "          zaxis_title='Robot y-axis' ),\r\n",
        "      title=f\"Robot in joint Configuration: {np.round(np.rad2deg(q),0)} degrees\",\r\n",
        "      colorscale=dict(diverging=\"thermal\")\r\n",
        "  )\r\n",
        "  pio.show(fig)\r\n",
        "\r\n",
        "plot_robot(np.deg2rad([30,70,100,0]))"
      ],
      "execution_count": null,
      "outputs": [
        {
          "output_type": "display_data",
          "data": {
            "text/html": [
              "<html>\n",
              "<head><meta charset=\"utf-8\" /></head>\n",
              "<body>\n",
              "    <div>\n",
              "            <script src=\"https://cdnjs.cloudflare.com/ajax/libs/mathjax/2.7.5/MathJax.js?config=TeX-AMS-MML_SVG\"></script><script type=\"text/javascript\">if (window.MathJax) {MathJax.Hub.Config({SVG: {font: \"STIX-Web\"}});}</script>\n",
              "                <script type=\"text/javascript\">window.PlotlyConfig = {MathJaxConfig: 'local'};</script>\n",
              "        <script src=\"https://cdn.plot.ly/plotly-latest.min.js\"></script>    \n",
              "            <div id=\"ae665104-f26b-4bb8-8bb4-ce9940ef85b5\" class=\"plotly-graph-div\" style=\"height:700px; width:1000px;\"></div>\n",
              "            <script type=\"text/javascript\">\n",
              "                \n",
              "                    window.PLOTLYENV=window.PLOTLYENV || {};\n",
              "                    \n",
              "                if (document.getElementById(\"ae665104-f26b-4bb8-8bb4-ce9940ef85b5\")) {\n",
              "                    Plotly.newPlot(\n",
              "                        'ae665104-f26b-4bb8-8bb4-ce9940ef85b5',\n",
              "                        [{\"line\": {\"color\": \"darkblue\", \"width\": 15}, \"marker\": {\"color\": [0, 0.6, 1.4, 1, 0.5], \"colorscale\": [[0.0, \"#440154\"], [0.1111111111111111, \"#482878\"], [0.2222222222222222, \"#3e4989\"], [0.3333333333333333, \"#31688e\"], [0.4444444444444444, \"#26828e\"], [0.5555555555555556, \"#1f9e89\"], [0.6666666666666666, \"#35b779\"], [0.7777777777777778, \"#6ece58\"], [0.8888888888888888, \"#b5de2b\"], [1.0, \"#fde725\"]], \"size\": 10}, \"type\": \"scatter3d\", \"x\": [0, -0.8660254037844387, -0.6923772261175086, 0.24731539466839986, 1.1870080154543083], \"y\": [0.5, 0.5, 0.5, 0.5, 0.5], \"z\": [0, 0.49999999999999994, 1.4848077530122081, 1.1427876096865395, 0.800767466360871]}],\n",
              "                        {\"colorscale\": {\"diverging\": [[0.0, \"rgb(3, 35, 51)\"], [0.09090909090909091, \"rgb(13, 48, 100)\"], [0.18181818181818182, \"rgb(53, 50, 155)\"], [0.2727272727272727, \"rgb(93, 62, 153)\"], [0.36363636363636365, \"rgb(126, 77, 143)\"], [0.45454545454545453, \"rgb(158, 89, 135)\"], [0.5454545454545454, \"rgb(193, 100, 121)\"], [0.6363636363636364, \"rgb(225, 113, 97)\"], [0.7272727272727273, \"rgb(246, 139, 69)\"], [0.8181818181818182, \"rgb(251, 173, 60)\"], [0.9090909090909091, \"rgb(246, 211, 70)\"], [1.0, \"rgb(231, 250, 90)\"]]}, \"height\": 700, \"scene\": {\"aspectratio\": {\"x\": 1, \"y\": 0.25, \"z\": 0.5}, \"camera\": {\"eye\": {\"x\": 0, \"y\": -1.25, \"z\": 0.1}}, \"xaxis\": {\"title\": {\"text\": \"Robot x-axis\"}}, \"yaxis\": {\"title\": {\"text\": \"Robot z-axis\"}}, \"zaxis\": {\"title\": {\"text\": \"Robot y-axis\"}}}, \"template\": {\"data\": {\"bar\": [{\"error_x\": {\"color\": \"#2a3f5f\"}, \"error_y\": {\"color\": \"#2a3f5f\"}, \"marker\": {\"line\": {\"color\": \"#E5ECF6\", \"width\": 0.5}}, \"type\": \"bar\"}], \"barpolar\": [{\"marker\": {\"line\": {\"color\": \"#E5ECF6\", \"width\": 0.5}}, \"type\": \"barpolar\"}], \"carpet\": [{\"aaxis\": {\"endlinecolor\": \"#2a3f5f\", \"gridcolor\": \"white\", \"linecolor\": \"white\", \"minorgridcolor\": \"white\", \"startlinecolor\": \"#2a3f5f\"}, \"baxis\": {\"endlinecolor\": \"#2a3f5f\", \"gridcolor\": \"white\", \"linecolor\": \"white\", \"minorgridcolor\": \"white\", \"startlinecolor\": \"#2a3f5f\"}, \"type\": \"carpet\"}], \"choropleth\": [{\"colorbar\": {\"outlinewidth\": 0, \"ticks\": \"\"}, \"type\": \"choropleth\"}], \"contour\": [{\"colorbar\": {\"outlinewidth\": 0, \"ticks\": \"\"}, \"colorscale\": [[0.0, \"#0d0887\"], [0.1111111111111111, \"#46039f\"], [0.2222222222222222, \"#7201a8\"], [0.3333333333333333, \"#9c179e\"], [0.4444444444444444, \"#bd3786\"], [0.5555555555555556, \"#d8576b\"], [0.6666666666666666, \"#ed7953\"], [0.7777777777777778, \"#fb9f3a\"], [0.8888888888888888, \"#fdca26\"], [1.0, \"#f0f921\"]], \"type\": \"contour\"}], \"contourcarpet\": [{\"colorbar\": {\"outlinewidth\": 0, \"ticks\": \"\"}, \"type\": \"contourcarpet\"}], \"heatmap\": [{\"colorbar\": {\"outlinewidth\": 0, \"ticks\": \"\"}, \"colorscale\": [[0.0, \"#0d0887\"], [0.1111111111111111, \"#46039f\"], [0.2222222222222222, \"#7201a8\"], [0.3333333333333333, \"#9c179e\"], [0.4444444444444444, \"#bd3786\"], [0.5555555555555556, \"#d8576b\"], [0.6666666666666666, \"#ed7953\"], [0.7777777777777778, \"#fb9f3a\"], [0.8888888888888888, \"#fdca26\"], [1.0, \"#f0f921\"]], \"type\": \"heatmap\"}], \"heatmapgl\": [{\"colorbar\": {\"outlinewidth\": 0, \"ticks\": \"\"}, \"colorscale\": [[0.0, \"#0d0887\"], [0.1111111111111111, \"#46039f\"], [0.2222222222222222, \"#7201a8\"], [0.3333333333333333, \"#9c179e\"], [0.4444444444444444, \"#bd3786\"], [0.5555555555555556, \"#d8576b\"], [0.6666666666666666, \"#ed7953\"], [0.7777777777777778, \"#fb9f3a\"], [0.8888888888888888, \"#fdca26\"], [1.0, \"#f0f921\"]], \"type\": \"heatmapgl\"}], \"histogram\": [{\"marker\": {\"colorbar\": {\"outlinewidth\": 0, \"ticks\": \"\"}}, \"type\": \"histogram\"}], \"histogram2d\": [{\"colorbar\": {\"outlinewidth\": 0, \"ticks\": \"\"}, \"colorscale\": [[0.0, \"#0d0887\"], [0.1111111111111111, \"#46039f\"], [0.2222222222222222, \"#7201a8\"], [0.3333333333333333, \"#9c179e\"], [0.4444444444444444, \"#bd3786\"], [0.5555555555555556, \"#d8576b\"], [0.6666666666666666, \"#ed7953\"], [0.7777777777777778, \"#fb9f3a\"], [0.8888888888888888, \"#fdca26\"], [1.0, \"#f0f921\"]], \"type\": \"histogram2d\"}], \"histogram2dcontour\": [{\"colorbar\": {\"outlinewidth\": 0, \"ticks\": \"\"}, \"colorscale\": [[0.0, \"#0d0887\"], [0.1111111111111111, \"#46039f\"], [0.2222222222222222, \"#7201a8\"], [0.3333333333333333, \"#9c179e\"], [0.4444444444444444, \"#bd3786\"], [0.5555555555555556, \"#d8576b\"], [0.6666666666666666, \"#ed7953\"], [0.7777777777777778, \"#fb9f3a\"], [0.8888888888888888, \"#fdca26\"], [1.0, \"#f0f921\"]], \"type\": \"histogram2dcontour\"}], \"mesh3d\": [{\"colorbar\": {\"outlinewidth\": 0, \"ticks\": \"\"}, \"type\": \"mesh3d\"}], \"parcoords\": [{\"line\": {\"colorbar\": {\"outlinewidth\": 0, \"ticks\": \"\"}}, \"type\": \"parcoords\"}], \"pie\": [{\"automargin\": true, \"type\": \"pie\"}], \"scatter\": [{\"marker\": {\"colorbar\": {\"outlinewidth\": 0, \"ticks\": \"\"}}, \"type\": \"scatter\"}], \"scatter3d\": [{\"line\": {\"colorbar\": {\"outlinewidth\": 0, \"ticks\": \"\"}}, \"marker\": {\"colorbar\": {\"outlinewidth\": 0, \"ticks\": \"\"}}, \"type\": \"scatter3d\"}], \"scattercarpet\": [{\"marker\": {\"colorbar\": {\"outlinewidth\": 0, \"ticks\": \"\"}}, \"type\": \"scattercarpet\"}], \"scattergeo\": [{\"marker\": {\"colorbar\": {\"outlinewidth\": 0, \"ticks\": \"\"}}, \"type\": \"scattergeo\"}], \"scattergl\": [{\"marker\": {\"colorbar\": {\"outlinewidth\": 0, \"ticks\": \"\"}}, \"type\": \"scattergl\"}], \"scattermapbox\": [{\"marker\": {\"colorbar\": {\"outlinewidth\": 0, \"ticks\": \"\"}}, \"type\": \"scattermapbox\"}], \"scatterpolar\": [{\"marker\": {\"colorbar\": {\"outlinewidth\": 0, \"ticks\": \"\"}}, \"type\": \"scatterpolar\"}], \"scatterpolargl\": [{\"marker\": {\"colorbar\": {\"outlinewidth\": 0, \"ticks\": \"\"}}, \"type\": \"scatterpolargl\"}], \"scatterternary\": [{\"marker\": {\"colorbar\": {\"outlinewidth\": 0, \"ticks\": \"\"}}, \"type\": \"scatterternary\"}], \"surface\": [{\"colorbar\": {\"outlinewidth\": 0, \"ticks\": \"\"}, \"colorscale\": [[0.0, \"#0d0887\"], [0.1111111111111111, \"#46039f\"], [0.2222222222222222, \"#7201a8\"], [0.3333333333333333, \"#9c179e\"], [0.4444444444444444, \"#bd3786\"], [0.5555555555555556, \"#d8576b\"], [0.6666666666666666, \"#ed7953\"], [0.7777777777777778, \"#fb9f3a\"], [0.8888888888888888, \"#fdca26\"], [1.0, \"#f0f921\"]], \"type\": \"surface\"}], \"table\": [{\"cells\": {\"fill\": {\"color\": \"#EBF0F8\"}, \"line\": {\"color\": \"white\"}}, \"header\": {\"fill\": {\"color\": \"#C8D4E3\"}, \"line\": {\"color\": \"white\"}}, \"type\": \"table\"}]}, \"layout\": {\"annotationdefaults\": {\"arrowcolor\": \"#2a3f5f\", \"arrowhead\": 0, \"arrowwidth\": 1}, \"coloraxis\": {\"colorbar\": {\"outlinewidth\": 0, \"ticks\": \"\"}}, \"colorscale\": {\"diverging\": [[0, \"#8e0152\"], [0.1, \"#c51b7d\"], [0.2, \"#de77ae\"], [0.3, \"#f1b6da\"], [0.4, \"#fde0ef\"], [0.5, \"#f7f7f7\"], [0.6, \"#e6f5d0\"], [0.7, \"#b8e186\"], [0.8, \"#7fbc41\"], [0.9, \"#4d9221\"], [1, \"#276419\"]], \"sequential\": [[0.0, \"#0d0887\"], [0.1111111111111111, \"#46039f\"], [0.2222222222222222, \"#7201a8\"], [0.3333333333333333, \"#9c179e\"], [0.4444444444444444, \"#bd3786\"], [0.5555555555555556, \"#d8576b\"], [0.6666666666666666, \"#ed7953\"], [0.7777777777777778, \"#fb9f3a\"], [0.8888888888888888, \"#fdca26\"], [1.0, \"#f0f921\"]], \"sequentialminus\": [[0.0, \"#0d0887\"], [0.1111111111111111, \"#46039f\"], [0.2222222222222222, \"#7201a8\"], [0.3333333333333333, \"#9c179e\"], [0.4444444444444444, \"#bd3786\"], [0.5555555555555556, \"#d8576b\"], [0.6666666666666666, \"#ed7953\"], [0.7777777777777778, \"#fb9f3a\"], [0.8888888888888888, \"#fdca26\"], [1.0, \"#f0f921\"]]}, \"colorway\": [\"#636efa\", \"#EF553B\", \"#00cc96\", \"#ab63fa\", \"#FFA15A\", \"#19d3f3\", \"#FF6692\", \"#B6E880\", \"#FF97FF\", \"#FECB52\"], \"font\": {\"color\": \"#2a3f5f\"}, \"geo\": {\"bgcolor\": \"white\", \"lakecolor\": \"white\", \"landcolor\": \"#E5ECF6\", \"showlakes\": true, \"showland\": true, \"subunitcolor\": \"white\"}, \"hoverlabel\": {\"align\": \"left\"}, \"hovermode\": \"closest\", \"mapbox\": {\"style\": \"light\"}, \"paper_bgcolor\": \"white\", \"plot_bgcolor\": \"#E5ECF6\", \"polar\": {\"angularaxis\": {\"gridcolor\": \"white\", \"linecolor\": \"white\", \"ticks\": \"\"}, \"bgcolor\": \"#E5ECF6\", \"radialaxis\": {\"gridcolor\": \"white\", \"linecolor\": \"white\", \"ticks\": \"\"}}, \"scene\": {\"xaxis\": {\"backgroundcolor\": \"#E5ECF6\", \"gridcolor\": \"white\", \"gridwidth\": 2, \"linecolor\": \"white\", \"showbackground\": true, \"ticks\": \"\", \"zerolinecolor\": \"white\"}, \"yaxis\": {\"backgroundcolor\": \"#E5ECF6\", \"gridcolor\": \"white\", \"gridwidth\": 2, \"linecolor\": \"white\", \"showbackground\": true, \"ticks\": \"\", \"zerolinecolor\": \"white\"}, \"zaxis\": {\"backgroundcolor\": \"#E5ECF6\", \"gridcolor\": \"white\", \"gridwidth\": 2, \"linecolor\": \"white\", \"showbackground\": true, \"ticks\": \"\", \"zerolinecolor\": \"white\"}}, \"shapedefaults\": {\"line\": {\"color\": \"#2a3f5f\"}}, \"ternary\": {\"aaxis\": {\"gridcolor\": \"white\", \"linecolor\": \"white\", \"ticks\": \"\"}, \"baxis\": {\"gridcolor\": \"white\", \"linecolor\": \"white\", \"ticks\": \"\"}, \"bgcolor\": \"#E5ECF6\", \"caxis\": {\"gridcolor\": \"white\", \"linecolor\": \"white\", \"ticks\": \"\"}}, \"title\": {\"x\": 0.05}, \"xaxis\": {\"automargin\": true, \"gridcolor\": \"white\", \"linecolor\": \"white\", \"ticks\": \"\", \"title\": {\"standoff\": 15}, \"zerolinecolor\": \"white\", \"zerolinewidth\": 2}, \"yaxis\": {\"automargin\": true, \"gridcolor\": \"white\", \"linecolor\": \"white\", \"ticks\": \"\", \"title\": {\"standoff\": 15}, \"zerolinecolor\": \"white\", \"zerolinewidth\": 2}}}, \"title\": {\"text\": \"Robot in joint Configuration: [ 30.  70. 100.   0.] degrees\"}, \"width\": 1000},\n",
              "                        {\"responsive\": true}\n",
              "                    ).then(function(){\n",
              "                            \n",
              "var gd = document.getElementById('ae665104-f26b-4bb8-8bb4-ce9940ef85b5');\n",
              "var x = new MutationObserver(function (mutations, observer) {{\n",
              "        var display = window.getComputedStyle(gd).display;\n",
              "        if (!display || display === 'none') {{\n",
              "            console.log([gd, 'removed!']);\n",
              "            Plotly.purge(gd);\n",
              "            observer.disconnect();\n",
              "        }}\n",
              "}});\n",
              "\n",
              "// Listen for the removal of the full notebook cells\n",
              "var notebookContainer = gd.closest('#notebook-container');\n",
              "if (notebookContainer) {{\n",
              "    x.observe(notebookContainer, {childList: true});\n",
              "}}\n",
              "\n",
              "// Listen for the clearing of the current output cell\n",
              "var outputEl = gd.closest('.output');\n",
              "if (outputEl) {{\n",
              "    x.observe(outputEl, {childList: true});\n",
              "}}\n",
              "\n",
              "                        })\n",
              "                };\n",
              "                \n",
              "            </script>\n",
              "        </div>\n",
              "</body>\n",
              "</html>"
            ]
          },
          "metadata": {
            "tags": []
          }
        }
      ]
    },
    {
      "cell_type": "code",
      "metadata": {
        "colab": {
          "base_uri": "https://localhost:8080/",
          "height": 737
        },
        "id": "uLxBDuD6K5Hv",
        "outputId": "04b788a2-5bf6-48c7-c36e-33b729f76ac7"
      },
      "source": [
        "def plot_robots(rob_cnfs, traj_fun=(lambda x: 2 + 0.5*np.sin(3*x))):\r\n",
        "\r\n",
        "  fig = go.Figure()\r\n",
        "\r\n",
        "  rng = np.linspace(-2.5, 2.5)\r\n",
        "  trajX = rng\r\n",
        "  trajY = traj_fun(rng)\r\n",
        "  trajZ = [ 0.5 for _ in rng ]\r\n",
        "\r\n",
        "  fig.add_scatter3d(\r\n",
        "        x=trajX,\r\n",
        "        y=[0.5 for _ in rng ],\r\n",
        "        z=trajY, #2 + np.sin(3*np.linspace(-2.5, 2.5)),\r\n",
        "        line=None,\r\n",
        "        marker=dict( size=0.1 ),\r\n",
        "        name = \"desired trajectory\"\r\n",
        "  )\r\n",
        "  for i,q in enumerate(rob_cnfs):\r\n",
        "    T01 = np.linalg.multi_dot([ Rz(np.pi-q[0]), Tx(a1) ])\r\n",
        "    T12 = np.linalg.multi_dot([ Rz(np.pi-q[0]), Tx(a1), Rz(-q[1]), Tx(1) ])\r\n",
        "    T23 = np.linalg.multi_dot([ Rz(np.pi-q[0]), Tx(a1), Rz(-q[1]), Tx(1) , Rz(-q[2]), Tx(a3) ])\r\n",
        "    T34 = np.linalg.multi_dot([ Rz(np.pi-q[0]), Tx(a1), Rz(-q[1]), Tx(1) , Rz(-q[2]), Tx(a3), Rz(-q[3]), Tx(a4) ])\r\n",
        "\r\n",
        "    x_pos = [0, T01[0,-1], T12[0,-1], T23[0,-1], T34[0,-1]]\r\n",
        "    y_pos = [0, T01[1,-1], T12[1,-1], T23[1,-1], T34[1,-1]]\r\n",
        "\r\n",
        "    # Setting opacity\r\n",
        "    if (i != 0 and i != len(rob_cnfs)-1): \r\n",
        "      opc=0.5\r\n",
        "    else: opc=1\r\n",
        "\r\n",
        "    fig.add_scatter3d(\r\n",
        "        x=x_pos,\r\n",
        "        y=[0.5, 0.5, 0.5, 0.5, 0.5],\r\n",
        "        z=y_pos,\r\n",
        "        line=dict( width=5 ),\r\n",
        "        marker=dict(\r\n",
        "            size=5,\r\n",
        "            color=[0, 0.6, 1.4, 1, 0.5],\r\n",
        "            colorscale='Viridis' ),\r\n",
        "        opacity=opc,\r\n",
        "        showlegend=False,\r\n",
        "        name = None #f\"configuration {i}\"\r\n",
        "    )\r\n",
        "\r\n",
        "  fig.layout=dict(\r\n",
        "    width=1000,\r\n",
        "    height=700,\r\n",
        "    scene = dict( \r\n",
        "        camera=dict( eye={ 'x':0, 'y':-1.25, 'z':0.1 } ),\r\n",
        "        aspectratio={ 'x':1, 'y':0.25, 'z':0.7 },\r\n",
        "        xaxis_title='Robot x-axis',\r\n",
        "        yaxis_title='Robot z-axis',\r\n",
        "        zaxis_title='Robot y-axis' ),\r\n",
        "    title=f\"Robot in joint Configurations\",\r\n",
        "    colorscale=dict(diverging=\"thermal\")\r\n",
        "  )\r\n",
        "  pio.show(fig)\r\n",
        "\r\n",
        "plot_robots([np.deg2rad([30,70,100,0]), np.deg2rad([20,67,90,5])])"
      ],
      "execution_count": null,
      "outputs": [
        {
          "output_type": "display_data",
          "data": {
            "text/html": [
              "<html>\n",
              "<head><meta charset=\"utf-8\" /></head>\n",
              "<body>\n",
              "    <div>\n",
              "            <script src=\"https://cdnjs.cloudflare.com/ajax/libs/mathjax/2.7.5/MathJax.js?config=TeX-AMS-MML_SVG\"></script><script type=\"text/javascript\">if (window.MathJax) {MathJax.Hub.Config({SVG: {font: \"STIX-Web\"}});}</script>\n",
              "                <script type=\"text/javascript\">window.PlotlyConfig = {MathJaxConfig: 'local'};</script>\n",
              "        <script src=\"https://cdn.plot.ly/plotly-latest.min.js\"></script>    \n",
              "            <div id=\"45af026c-ae41-45c6-95b8-773535746cfd\" class=\"plotly-graph-div\" style=\"height:700px; width:1000px;\"></div>\n",
              "            <script type=\"text/javascript\">\n",
              "                \n",
              "                    window.PLOTLYENV=window.PLOTLYENV || {};\n",
              "                    \n",
              "                if (document.getElementById(\"45af026c-ae41-45c6-95b8-773535746cfd\")) {\n",
              "                    Plotly.newPlot(\n",
              "                        '45af026c-ae41-45c6-95b8-773535746cfd',\n",
              "                        [{\"marker\": {\"size\": 0.1}, \"name\": \"desired trajectory\", \"type\": \"scatter3d\", \"x\": [-2.5, -2.3979591836734695, -2.295918367346939, -2.193877551020408, -2.0918367346938775, -1.989795918367347, -1.8877551020408163, -1.7857142857142856, -1.683673469387755, -1.5816326530612246, -1.4795918367346939, -1.3775510204081631, -1.2755102040816326, -1.1734693877551021, -1.0714285714285714, -0.9693877551020407, -0.8673469387755102, -0.7653061224489797, -0.6632653061224489, -0.5612244897959182, -0.4591836734693877, -0.3571428571428572, -0.25510204081632626, -0.15306122448979576, -0.05102040816326525, 0.05102040816326525, 0.15306122448979576, 0.2551020408163267, 0.3571428571428572, 0.4591836734693877, 0.5612244897959187, 0.6632653061224492, 0.7653061224489797, 0.8673469387755102, 0.9693877551020407, 1.0714285714285716, 1.1734693877551021, 1.2755102040816326, 1.3775510204081636, 1.479591836734694, 1.5816326530612246, 1.683673469387755, 1.7857142857142856, 1.887755102040816, 1.9897959183673475, 2.091836734693878, 2.1938775510204085, 2.295918367346939, 2.3979591836734695, 2.5], \"y\": [0.5, 0.5, 0.5, 0.5, 0.5, 0.5, 0.5, 0.5, 0.5, 0.5, 0.5, 0.5, 0.5, 0.5, 0.5, 0.5, 0.5, 0.5, 0.5, 0.5, 0.5, 0.5, 0.5, 0.5, 0.5, 0.5, 0.5, 0.5, 0.5, 0.5, 0.5, 0.5, 0.5, 0.5, 0.5, 0.5, 0.5, 0.5, 0.5, 0.5, 0.5, 0.5, 0.5, 0.5, 0.5, 0.5, 0.5, 0.5, 0.5, 0.5], \"z\": [1.5310000116126306, 1.6050357938973812, 1.7157959104957354, 1.85298172804365, 2.0038375138725137, 2.1543364821968805, 2.29048502463098, 2.399623855823368, 2.471605091835762, 2.4997358148422393, 2.4814003901594264, 2.418303671684029, 2.316312482149802, 2.1849101075953876, 2.036314527924221, 1.8843423717346668, 1.7431242265180236, 1.6257907565115859, 1.543251794839756, 1.5031819316945028, 1.5093069200106743, 1.5610572496526314, 1.6536211012776452, 1.7783917561504259, 1.923767861107126, 2.076232138892874, 2.221608243849574, 2.3463788987223553, 2.4389427503473686, 2.4906930799893257, 2.496818068305497, 2.456748205160244, 2.374209243488414, 2.256875773481976, 2.115657628265333, 1.9636854720757786, 1.8150898924046126, 1.6836875178501984, 1.5816963283159704, 1.5185996098405734, 1.5002641851577605, 1.528394908164238, 1.600376144176632, 1.70951497536902, 1.8456635178031204, 1.9961624861274871, 2.147018271956351, 2.284204089504265, 2.394964206102619, 2.4689999883873694]}, {\"line\": {\"width\": 5}, \"marker\": {\"color\": [0, 0.6, 1.4, 1, 0.5], \"colorscale\": [[0.0, \"#440154\"], [0.1111111111111111, \"#482878\"], [0.2222222222222222, \"#3e4989\"], [0.3333333333333333, \"#31688e\"], [0.4444444444444444, \"#26828e\"], [0.5555555555555556, \"#1f9e89\"], [0.6666666666666666, \"#35b779\"], [0.7777777777777778, \"#6ece58\"], [0.8888888888888888, \"#b5de2b\"], [1.0, \"#fde725\"]], \"size\": 5}, \"opacity\": 1, \"showlegend\": false, \"type\": \"scatter3d\", \"x\": [0, -0.8660254037844387, -0.6923772261175086, 0.24731539466839986, 1.1870080154543083], \"y\": [0.5, 0.5, 0.5, 0.5, 0.5], \"z\": [0, 0.49999999999999994, 1.4848077530122081, 1.1427876096865395, 0.800767466360871]}, {\"line\": {\"width\": 5}, \"marker\": {\"color\": [0, 0.6, 1.4, 1, 0.5], \"colorscale\": [[0.0, \"#440154\"], [0.1111111111111111, \"#482878\"], [0.2222222222222222, \"#3e4989\"], [0.3333333333333333, \"#31688e\"], [0.4444444444444444, \"#26828e\"], [0.5555555555555556, \"#1f9e89\"], [0.6666666666666666, \"#35b779\"], [0.7777777777777778, \"#6ece58\"], [0.8888888888888888, \"#b5de2b\"], [1.0, \"#fde725\"]], \"size\": 5}, \"opacity\": 1, \"showlegend\": false, \"type\": \"scatter3d\", \"x\": [0, -0.9396926207859083, -0.9920285770288518, 0.006600957725721946, 1.0059917847448179], \"y\": [0.5, 0.5, 0.5, 0.5, 0.5], \"z\": [0, 0.3420201433256689, 1.3406496780802428, 1.3929856343231863, 1.3580861376206852]}],\n",
              "                        {\"colorscale\": {\"diverging\": [[0.0, \"rgb(3, 35, 51)\"], [0.09090909090909091, \"rgb(13, 48, 100)\"], [0.18181818181818182, \"rgb(53, 50, 155)\"], [0.2727272727272727, \"rgb(93, 62, 153)\"], [0.36363636363636365, \"rgb(126, 77, 143)\"], [0.45454545454545453, \"rgb(158, 89, 135)\"], [0.5454545454545454, \"rgb(193, 100, 121)\"], [0.6363636363636364, \"rgb(225, 113, 97)\"], [0.7272727272727273, \"rgb(246, 139, 69)\"], [0.8181818181818182, \"rgb(251, 173, 60)\"], [0.9090909090909091, \"rgb(246, 211, 70)\"], [1.0, \"rgb(231, 250, 90)\"]]}, \"height\": 700, \"scene\": {\"aspectratio\": {\"x\": 1, \"y\": 0.25, \"z\": 0.7}, \"camera\": {\"eye\": {\"x\": 0, \"y\": -1.25, \"z\": 0.1}}, \"xaxis\": {\"title\": {\"text\": \"Robot x-axis\"}}, \"yaxis\": {\"title\": {\"text\": \"Robot z-axis\"}}, \"zaxis\": {\"title\": {\"text\": \"Robot y-axis\"}}}, \"template\": {\"data\": {\"bar\": [{\"error_x\": {\"color\": \"#2a3f5f\"}, \"error_y\": {\"color\": \"#2a3f5f\"}, \"marker\": {\"line\": {\"color\": \"#E5ECF6\", \"width\": 0.5}}, \"type\": \"bar\"}], \"barpolar\": [{\"marker\": {\"line\": {\"color\": \"#E5ECF6\", \"width\": 0.5}}, \"type\": \"barpolar\"}], \"carpet\": [{\"aaxis\": {\"endlinecolor\": \"#2a3f5f\", \"gridcolor\": \"white\", \"linecolor\": \"white\", \"minorgridcolor\": \"white\", \"startlinecolor\": \"#2a3f5f\"}, \"baxis\": {\"endlinecolor\": \"#2a3f5f\", \"gridcolor\": \"white\", \"linecolor\": \"white\", \"minorgridcolor\": \"white\", \"startlinecolor\": \"#2a3f5f\"}, \"type\": \"carpet\"}], \"choropleth\": [{\"colorbar\": {\"outlinewidth\": 0, \"ticks\": \"\"}, \"type\": \"choropleth\"}], \"contour\": [{\"colorbar\": {\"outlinewidth\": 0, \"ticks\": \"\"}, \"colorscale\": [[0.0, \"#0d0887\"], [0.1111111111111111, \"#46039f\"], [0.2222222222222222, \"#7201a8\"], [0.3333333333333333, \"#9c179e\"], [0.4444444444444444, \"#bd3786\"], [0.5555555555555556, \"#d8576b\"], [0.6666666666666666, \"#ed7953\"], [0.7777777777777778, \"#fb9f3a\"], [0.8888888888888888, \"#fdca26\"], [1.0, \"#f0f921\"]], \"type\": \"contour\"}], \"contourcarpet\": [{\"colorbar\": {\"outlinewidth\": 0, \"ticks\": \"\"}, \"type\": \"contourcarpet\"}], \"heatmap\": [{\"colorbar\": {\"outlinewidth\": 0, \"ticks\": \"\"}, \"colorscale\": [[0.0, \"#0d0887\"], [0.1111111111111111, \"#46039f\"], [0.2222222222222222, \"#7201a8\"], [0.3333333333333333, \"#9c179e\"], [0.4444444444444444, \"#bd3786\"], [0.5555555555555556, \"#d8576b\"], [0.6666666666666666, \"#ed7953\"], [0.7777777777777778, \"#fb9f3a\"], [0.8888888888888888, \"#fdca26\"], [1.0, \"#f0f921\"]], \"type\": \"heatmap\"}], \"heatmapgl\": [{\"colorbar\": {\"outlinewidth\": 0, \"ticks\": \"\"}, \"colorscale\": [[0.0, \"#0d0887\"], [0.1111111111111111, \"#46039f\"], [0.2222222222222222, \"#7201a8\"], [0.3333333333333333, \"#9c179e\"], [0.4444444444444444, \"#bd3786\"], [0.5555555555555556, \"#d8576b\"], [0.6666666666666666, \"#ed7953\"], [0.7777777777777778, \"#fb9f3a\"], [0.8888888888888888, \"#fdca26\"], [1.0, \"#f0f921\"]], \"type\": \"heatmapgl\"}], \"histogram\": [{\"marker\": {\"colorbar\": {\"outlinewidth\": 0, \"ticks\": \"\"}}, \"type\": \"histogram\"}], \"histogram2d\": [{\"colorbar\": {\"outlinewidth\": 0, \"ticks\": \"\"}, \"colorscale\": [[0.0, \"#0d0887\"], [0.1111111111111111, \"#46039f\"], [0.2222222222222222, \"#7201a8\"], [0.3333333333333333, \"#9c179e\"], [0.4444444444444444, \"#bd3786\"], [0.5555555555555556, \"#d8576b\"], [0.6666666666666666, \"#ed7953\"], [0.7777777777777778, \"#fb9f3a\"], [0.8888888888888888, \"#fdca26\"], [1.0, \"#f0f921\"]], \"type\": \"histogram2d\"}], \"histogram2dcontour\": [{\"colorbar\": {\"outlinewidth\": 0, \"ticks\": \"\"}, \"colorscale\": [[0.0, \"#0d0887\"], [0.1111111111111111, \"#46039f\"], [0.2222222222222222, \"#7201a8\"], [0.3333333333333333, \"#9c179e\"], [0.4444444444444444, \"#bd3786\"], [0.5555555555555556, \"#d8576b\"], [0.6666666666666666, \"#ed7953\"], [0.7777777777777778, \"#fb9f3a\"], [0.8888888888888888, \"#fdca26\"], [1.0, \"#f0f921\"]], \"type\": \"histogram2dcontour\"}], \"mesh3d\": [{\"colorbar\": {\"outlinewidth\": 0, \"ticks\": \"\"}, \"type\": \"mesh3d\"}], \"parcoords\": [{\"line\": {\"colorbar\": {\"outlinewidth\": 0, \"ticks\": \"\"}}, \"type\": \"parcoords\"}], \"pie\": [{\"automargin\": true, \"type\": \"pie\"}], \"scatter\": [{\"marker\": {\"colorbar\": {\"outlinewidth\": 0, \"ticks\": \"\"}}, \"type\": \"scatter\"}], \"scatter3d\": [{\"line\": {\"colorbar\": {\"outlinewidth\": 0, \"ticks\": \"\"}}, \"marker\": {\"colorbar\": {\"outlinewidth\": 0, \"ticks\": \"\"}}, \"type\": \"scatter3d\"}], \"scattercarpet\": [{\"marker\": {\"colorbar\": {\"outlinewidth\": 0, \"ticks\": \"\"}}, \"type\": \"scattercarpet\"}], \"scattergeo\": [{\"marker\": {\"colorbar\": {\"outlinewidth\": 0, \"ticks\": \"\"}}, \"type\": \"scattergeo\"}], \"scattergl\": [{\"marker\": {\"colorbar\": {\"outlinewidth\": 0, \"ticks\": \"\"}}, \"type\": \"scattergl\"}], \"scattermapbox\": [{\"marker\": {\"colorbar\": {\"outlinewidth\": 0, \"ticks\": \"\"}}, \"type\": \"scattermapbox\"}], \"scatterpolar\": [{\"marker\": {\"colorbar\": {\"outlinewidth\": 0, \"ticks\": \"\"}}, \"type\": \"scatterpolar\"}], \"scatterpolargl\": [{\"marker\": {\"colorbar\": {\"outlinewidth\": 0, \"ticks\": \"\"}}, \"type\": \"scatterpolargl\"}], \"scatterternary\": [{\"marker\": {\"colorbar\": {\"outlinewidth\": 0, \"ticks\": \"\"}}, \"type\": \"scatterternary\"}], \"surface\": [{\"colorbar\": {\"outlinewidth\": 0, \"ticks\": \"\"}, \"colorscale\": [[0.0, \"#0d0887\"], [0.1111111111111111, \"#46039f\"], [0.2222222222222222, \"#7201a8\"], [0.3333333333333333, \"#9c179e\"], [0.4444444444444444, \"#bd3786\"], [0.5555555555555556, \"#d8576b\"], [0.6666666666666666, \"#ed7953\"], [0.7777777777777778, \"#fb9f3a\"], [0.8888888888888888, \"#fdca26\"], [1.0, \"#f0f921\"]], \"type\": \"surface\"}], \"table\": [{\"cells\": {\"fill\": {\"color\": \"#EBF0F8\"}, \"line\": {\"color\": \"white\"}}, \"header\": {\"fill\": {\"color\": \"#C8D4E3\"}, \"line\": {\"color\": \"white\"}}, \"type\": \"table\"}]}, \"layout\": {\"annotationdefaults\": {\"arrowcolor\": \"#2a3f5f\", \"arrowhead\": 0, \"arrowwidth\": 1}, \"coloraxis\": {\"colorbar\": {\"outlinewidth\": 0, \"ticks\": \"\"}}, \"colorscale\": {\"diverging\": [[0, \"#8e0152\"], [0.1, \"#c51b7d\"], [0.2, \"#de77ae\"], [0.3, \"#f1b6da\"], [0.4, \"#fde0ef\"], [0.5, \"#f7f7f7\"], [0.6, \"#e6f5d0\"], [0.7, \"#b8e186\"], [0.8, \"#7fbc41\"], [0.9, \"#4d9221\"], [1, \"#276419\"]], \"sequential\": [[0.0, \"#0d0887\"], [0.1111111111111111, \"#46039f\"], [0.2222222222222222, \"#7201a8\"], [0.3333333333333333, \"#9c179e\"], [0.4444444444444444, \"#bd3786\"], [0.5555555555555556, \"#d8576b\"], [0.6666666666666666, \"#ed7953\"], [0.7777777777777778, \"#fb9f3a\"], [0.8888888888888888, \"#fdca26\"], [1.0, \"#f0f921\"]], \"sequentialminus\": [[0.0, \"#0d0887\"], [0.1111111111111111, \"#46039f\"], [0.2222222222222222, \"#7201a8\"], [0.3333333333333333, \"#9c179e\"], [0.4444444444444444, \"#bd3786\"], [0.5555555555555556, \"#d8576b\"], [0.6666666666666666, \"#ed7953\"], [0.7777777777777778, \"#fb9f3a\"], [0.8888888888888888, \"#fdca26\"], [1.0, \"#f0f921\"]]}, \"colorway\": [\"#636efa\", \"#EF553B\", \"#00cc96\", \"#ab63fa\", \"#FFA15A\", \"#19d3f3\", \"#FF6692\", \"#B6E880\", \"#FF97FF\", \"#FECB52\"], \"font\": {\"color\": \"#2a3f5f\"}, \"geo\": {\"bgcolor\": \"white\", \"lakecolor\": \"white\", \"landcolor\": \"#E5ECF6\", \"showlakes\": true, \"showland\": true, \"subunitcolor\": \"white\"}, \"hoverlabel\": {\"align\": \"left\"}, \"hovermode\": \"closest\", \"mapbox\": {\"style\": \"light\"}, \"paper_bgcolor\": \"white\", \"plot_bgcolor\": \"#E5ECF6\", \"polar\": {\"angularaxis\": {\"gridcolor\": \"white\", \"linecolor\": \"white\", \"ticks\": \"\"}, \"bgcolor\": \"#E5ECF6\", \"radialaxis\": {\"gridcolor\": \"white\", \"linecolor\": \"white\", \"ticks\": \"\"}}, \"scene\": {\"xaxis\": {\"backgroundcolor\": \"#E5ECF6\", \"gridcolor\": \"white\", \"gridwidth\": 2, \"linecolor\": \"white\", \"showbackground\": true, \"ticks\": \"\", \"zerolinecolor\": \"white\"}, \"yaxis\": {\"backgroundcolor\": \"#E5ECF6\", \"gridcolor\": \"white\", \"gridwidth\": 2, \"linecolor\": \"white\", \"showbackground\": true, \"ticks\": \"\", \"zerolinecolor\": \"white\"}, \"zaxis\": {\"backgroundcolor\": \"#E5ECF6\", \"gridcolor\": \"white\", \"gridwidth\": 2, \"linecolor\": \"white\", \"showbackground\": true, \"ticks\": \"\", \"zerolinecolor\": \"white\"}}, \"shapedefaults\": {\"line\": {\"color\": \"#2a3f5f\"}}, \"ternary\": {\"aaxis\": {\"gridcolor\": \"white\", \"linecolor\": \"white\", \"ticks\": \"\"}, \"baxis\": {\"gridcolor\": \"white\", \"linecolor\": \"white\", \"ticks\": \"\"}, \"bgcolor\": \"#E5ECF6\", \"caxis\": {\"gridcolor\": \"white\", \"linecolor\": \"white\", \"ticks\": \"\"}}, \"title\": {\"x\": 0.05}, \"xaxis\": {\"automargin\": true, \"gridcolor\": \"white\", \"linecolor\": \"white\", \"ticks\": \"\", \"title\": {\"standoff\": 15}, \"zerolinecolor\": \"white\", \"zerolinewidth\": 2}, \"yaxis\": {\"automargin\": true, \"gridcolor\": \"white\", \"linecolor\": \"white\", \"ticks\": \"\", \"title\": {\"standoff\": 15}, \"zerolinecolor\": \"white\", \"zerolinewidth\": 2}}}, \"title\": {\"text\": \"Robot in joint Configurations\"}, \"width\": 1000},\n",
              "                        {\"responsive\": true}\n",
              "                    ).then(function(){\n",
              "                            \n",
              "var gd = document.getElementById('45af026c-ae41-45c6-95b8-773535746cfd');\n",
              "var x = new MutationObserver(function (mutations, observer) {{\n",
              "        var display = window.getComputedStyle(gd).display;\n",
              "        if (!display || display === 'none') {{\n",
              "            console.log([gd, 'removed!']);\n",
              "            Plotly.purge(gd);\n",
              "            observer.disconnect();\n",
              "        }}\n",
              "}});\n",
              "\n",
              "// Listen for the removal of the full notebook cells\n",
              "var notebookContainer = gd.closest('#notebook-container');\n",
              "if (notebookContainer) {{\n",
              "    x.observe(notebookContainer, {childList: true});\n",
              "}}\n",
              "\n",
              "// Listen for the clearing of the current output cell\n",
              "var outputEl = gd.closest('.output');\n",
              "if (outputEl) {{\n",
              "    x.observe(outputEl, {childList: true});\n",
              "}}\n",
              "\n",
              "                        })\n",
              "                };\n",
              "                \n",
              "            </script>\n",
              "        </div>\n",
              "</body>\n",
              "</html>"
            ]
          },
          "metadata": {
            "tags": []
          }
        }
      ]
    },
    {
      "cell_type": "markdown",
      "metadata": {
        "id": "02UNeBK6fdhq"
      },
      "source": [
        "### Redundancy Analysis"
      ]
    },
    {
      "cell_type": "markdown",
      "metadata": {
        "id": "e2S1jLvrt_QL"
      },
      "source": [
        "##### Simple Pseudo Inverse"
      ]
    },
    {
      "cell_type": "code",
      "metadata": {
        "id": "l1BVKcNkuIp7"
      },
      "source": [
        "def simple_pseudo(q0, p_goal, time_step=0.01, max_iteration=3000, accuracy=0.0001):\r\n",
        "\r\n",
        "  assert (p_goal[-1] == 0), \"Forward Kinematics cannot set z position\"\r\n",
        "\r\n",
        "  q_n0 = q0\r\n",
        "  p = FK(q_n0)[:3,-1]\r\n",
        "  t_dot = p_goal - p\r\n",
        "  e = np.linalg.norm(t_dot)\r\n",
        "\r\n",
        "  Tt = np.block([ np.eye(3), np.zeros((3,3)) ])\r\n",
        "  accuracy\r\n",
        "  q_n1 = q_n0\r\n",
        "  δt = time_step\r\n",
        "  i=0\r\n",
        "\r\n",
        "  start_time = time.time()\r\n",
        "  while True:\r\n",
        "    if (e < accuracy): \r\n",
        "      print(f\"Accuracy of {accuracy} reached\")\r\n",
        "      break\r\n",
        "\r\n",
        "    p = FK(q_n0)[:3,-1]\r\n",
        "    t_dot = p_goal - p\r\n",
        "    e = np.linalg.norm(t_dot)\r\n",
        "\r\n",
        "    J_inv = np.linalg.pinv(np.dot(Tt, jacobian(q_n0)))\r\n",
        "\r\n",
        "    q_dot = np.linalg.multi_dot([J_inv, t_dot])\r\n",
        "\r\n",
        "    q_n1 = q_n0 + (δt * q_dot)  \r\n",
        "\r\n",
        "    q_n0 = q_n1\r\n",
        "\r\n",
        "    i+=1\r\n",
        "    if (i > max_iteration):\r\n",
        "      print(\"No convergence\")\r\n",
        "      break\r\n",
        "    \r\n",
        "  end_time = time.time()\r\n",
        "  print(f\"Total time taken {np.round(end_time - start_time, 4)} seconds\")\r\n",
        "\r\n",
        "  return np.mod(q_n1, 2*np.pi)"
      ],
      "execution_count": null,
      "outputs": []
    },
    {
      "cell_type": "code",
      "metadata": {
        "id": "_CDfRk4XMs__"
      },
      "source": [
        "def get_cnfs(traj_fun, method_fun, pts=4, q0=np.deg2rad([30,70,100,0]), kwargs=dict()):\r\n",
        "  \"\"\"\r\n",
        "  Given a trajectory function {traj_fun}, defined using numpy, returns \r\n",
        "  the robot configurations for {pts} number of points \r\n",
        "  of points on the trajectory path\r\n",
        "\r\n",
        "  q0 is initial configuration\r\n",
        "  \"\"\"\r\n",
        "  rng = np.linspace(-2.5, 2.5)\r\n",
        "  traj_x = rng\r\n",
        "  traj_y = traj_fun(rng)\r\n",
        "  step = len(rng)//(pts+1)        # steps to take along the trajectory \r\n",
        "  rob_cnfs = []                   # will contain the result of each inverse kinematics\r\n",
        "\r\n",
        "  start_time = time.time()\r\n",
        "  for i in range(pts+1):\r\n",
        "    idx = i*step\r\n",
        "\r\n",
        "    pos = [ traj_x[idx], traj_y[idx], 0 ]\r\n",
        "\r\n",
        "    q = method_fun(q0, pos, **kwargs)\r\n",
        "\r\n",
        "    rob_cnfs.append(q)\r\n",
        "  \r\n",
        "  clear_output()\r\n",
        "  end_time = time.time()\r\n",
        "  print(f\"{np.round(end_time-start_time, 1)} seconds : Total time using {method_fun.__name__} \")\r\n",
        "  if kwargs: print(f\"Parameters used: {kwargs}\")\r\n",
        "\r\n",
        "  plot_robots(rob_cnfs, traj_fun)"
      ],
      "execution_count": null,
      "outputs": []
    },
    {
      "cell_type": "code",
      "metadata": {
        "colab": {
          "base_uri": "https://localhost:8080/",
          "height": 734
        },
        "id": "4ExwLcYLX71M",
        "outputId": "d9f8163e-a8d6-47b0-bec7-482b2c019836"
      },
      "source": [
        "get_cnfs(traj_fun=lambda x: 2 + 0.5*np.sin(3*x), method_fun=simple_pseudo, pts=40)"
      ],
      "execution_count": null,
      "outputs": [
        {
          "output_type": "stream",
          "text": [
            "54.0 seconds : Total time using simple_pseudo \n"
          ],
          "name": "stdout"
        },
        {
          "output_type": "display_data",
          "data": {
            "text/html": [
              "<html>\n",
              "<head><meta charset=\"utf-8\" /></head>\n",
              "<body>\n",
              "    <div>\n",
              "            <script src=\"https://cdnjs.cloudflare.com/ajax/libs/mathjax/2.7.5/MathJax.js?config=TeX-AMS-MML_SVG\"></script><script type=\"text/javascript\">if (window.MathJax) {MathJax.Hub.Config({SVG: {font: \"STIX-Web\"}});}</script>\n",
              "                <script type=\"text/javascript\">window.PlotlyConfig = {MathJaxConfig: 'local'};</script>\n",
              "        <script src=\"https://cdn.plot.ly/plotly-latest.min.js\"></script>    \n",
              "            <div id=\"ed3508c7-7cc4-4e2c-88ab-04e266c8f1c2\" class=\"plotly-graph-div\" style=\"height:700px; width:1000px;\"></div>\n",
              "            <script type=\"text/javascript\">\n",
              "                \n",
              "                    window.PLOTLYENV=window.PLOTLYENV || {};\n",
              "                    \n",
              "                if (document.getElementById(\"ed3508c7-7cc4-4e2c-88ab-04e266c8f1c2\")) {\n",
              "                    Plotly.newPlot(\n",
              "                        'ed3508c7-7cc4-4e2c-88ab-04e266c8f1c2',\n",
              "                        [{\"marker\": {\"size\": 0.1}, \"name\": \"desired trajectory\", \"type\": \"scatter3d\", \"x\": [-2.5, -2.3979591836734695, -2.295918367346939, -2.193877551020408, -2.0918367346938775, -1.989795918367347, -1.8877551020408163, -1.7857142857142856, -1.683673469387755, -1.5816326530612246, -1.4795918367346939, -1.3775510204081631, -1.2755102040816326, -1.1734693877551021, -1.0714285714285714, -0.9693877551020407, -0.8673469387755102, -0.7653061224489797, -0.6632653061224489, -0.5612244897959182, -0.4591836734693877, -0.3571428571428572, -0.25510204081632626, -0.15306122448979576, -0.05102040816326525, 0.05102040816326525, 0.15306122448979576, 0.2551020408163267, 0.3571428571428572, 0.4591836734693877, 0.5612244897959187, 0.6632653061224492, 0.7653061224489797, 0.8673469387755102, 0.9693877551020407, 1.0714285714285716, 1.1734693877551021, 1.2755102040816326, 1.3775510204081636, 1.479591836734694, 1.5816326530612246, 1.683673469387755, 1.7857142857142856, 1.887755102040816, 1.9897959183673475, 2.091836734693878, 2.1938775510204085, 2.295918367346939, 2.3979591836734695, 2.5], \"y\": [0.5, 0.5, 0.5, 0.5, 0.5, 0.5, 0.5, 0.5, 0.5, 0.5, 0.5, 0.5, 0.5, 0.5, 0.5, 0.5, 0.5, 0.5, 0.5, 0.5, 0.5, 0.5, 0.5, 0.5, 0.5, 0.5, 0.5, 0.5, 0.5, 0.5, 0.5, 0.5, 0.5, 0.5, 0.5, 0.5, 0.5, 0.5, 0.5, 0.5, 0.5, 0.5, 0.5, 0.5, 0.5, 0.5, 0.5, 0.5, 0.5, 0.5], \"z\": [1.5310000116126306, 1.6050357938973812, 1.7157959104957354, 1.85298172804365, 2.0038375138725137, 2.1543364821968805, 2.29048502463098, 2.399623855823368, 2.471605091835762, 2.4997358148422393, 2.4814003901594264, 2.418303671684029, 2.316312482149802, 2.1849101075953876, 2.036314527924221, 1.8843423717346668, 1.7431242265180236, 1.6257907565115859, 1.543251794839756, 1.5031819316945028, 1.5093069200106743, 1.5610572496526314, 1.6536211012776452, 1.7783917561504259, 1.923767861107126, 2.076232138892874, 2.221608243849574, 2.3463788987223553, 2.4389427503473686, 2.4906930799893257, 2.496818068305497, 2.456748205160244, 2.374209243488414, 2.256875773481976, 2.115657628265333, 1.9636854720757786, 1.8150898924046126, 1.6836875178501984, 1.5816963283159704, 1.5185996098405734, 1.5002641851577605, 1.528394908164238, 1.600376144176632, 1.70951497536902, 1.8456635178031204, 1.9961624861274871, 2.147018271956351, 2.284204089504265, 2.394964206102619, 2.4689999883873694]}, {\"line\": {\"width\": 5}, \"marker\": {\"color\": [0, 0.6, 1.4, 1, 0.5], \"colorscale\": [[0.0, \"#440154\"], [0.1111111111111111, \"#482878\"], [0.2222222222222222, \"#3e4989\"], [0.3333333333333333, \"#31688e\"], [0.4444444444444444, \"#26828e\"], [0.5555555555555556, \"#1f9e89\"], [0.6666666666666666, \"#35b779\"], [0.7777777777777778, \"#6ece58\"], [0.8888888888888888, \"#b5de2b\"], [1.0, \"#fde725\"]], \"size\": 5}, \"opacity\": 1, \"showlegend\": false, \"type\": \"scatter3d\", \"x\": [0, -0.950107930265392, -1.9471151216427183, -2.182685595155057, -2.499903870597835], \"y\": [0.5, 0.5, 0.5, 0.5, 0.5], \"z\": [0, -0.31192133759461393, -0.3892302008762267, 0.5826270684844407, 1.5309796219818783]}, {\"line\": {\"width\": 5}, \"marker\": {\"color\": [0, 0.6, 1.4, 1, 0.5], \"colorscale\": [[0.0, \"#440154\"], [0.1111111111111111, \"#482878\"], [0.2222222222222222, \"#3e4989\"], [0.3333333333333333, \"#31688e\"], [0.4444444444444444, \"#26828e\"], [0.5555555555555556, \"#1f9e89\"], [0.6666666666666666, \"#35b779\"], [0.7777777777777778, \"#6ece58\"], [0.8888888888888888, \"#b5de2b\"], [1.0, \"#fde725\"]], \"size\": 5}, \"opacity\": 0.5, \"showlegend\": false, \"type\": \"scatter3d\", \"x\": [0, -0.9530844916385995, -1.95227501353359, -2.134405142700039, -2.397862891134111], \"y\": [0.5, 0.5, 0.5, 0.5, 0.5], \"z\": [0, -0.30270439672722355, -0.3429325082317062, 0.6403419275438879, 1.6050128635578478]}, {\"line\": {\"width\": 5}, \"marker\": {\"color\": [0, 0.6, 1.4, 1, 0.5], \"colorscale\": [[0.0, \"#440154\"], [0.1111111111111111, \"#482878\"], [0.2222222222222222, \"#3e4989\"], [0.3333333333333333, \"#31688e\"], [0.4444444444444444, \"#26828e\"], [0.5555555555555556, \"#1f9e89\"], [0.6666666666666666, \"#35b779\"], [0.7777777777777778, \"#6ece58\"], [0.8888888888888888, \"#b5de2b\"], [1.0, \"#fde725\"]], \"size\": 5}, \"opacity\": 0.5, \"showlegend\": false, \"type\": \"scatter3d\", \"x\": [0, -0.9614982128131953, -1.9612795971207408, -2.0831747175455635, -2.2958229614215746], \"y\": [0.5, 0.5, 0.5, 0.5, 0.5], \"z\": [0, -0.27481118382815395, -0.25390224812861606, 0.7386407381528939, 1.7157695548277727]}, {\"line\": {\"width\": 5}, \"marker\": {\"color\": [0, 0.6, 1.4, 1, 0.5], \"colorscale\": [[0.0, \"#440154\"], [0.1111111111111111, \"#482878\"], [0.2222222222222222, \"#3e4989\"], [0.3333333333333333, \"#31688e\"], [0.4444444444444444, \"#26828e\"], [0.5555555555555556, \"#1f9e89\"], [0.6666666666666666, \"#35b779\"], [0.7777777777777778, \"#6ece58\"], [0.8888888888888888, \"#b5de2b\"], [1.0, \"#fde725\"]], \"size\": 5}, \"opacity\": 0.5, \"showlegend\": false, \"type\": \"scatter3d\", \"x\": [0, -0.9729220496049465, -1.9679251115119423, -2.026940462322178, -2.1937840539959232], \"y\": [0.5, 0.5, 0.5, 0.5, 0.5], \"z\": [0, -0.2311334796010951, -0.13128906665924264, 0.8669680086318593, 1.8529513837033686]}, {\"line\": {\"width\": 5}, \"marker\": {\"color\": [0, 0.6, 1.4, 1, 0.5], \"colorscale\": [[0.0, \"#440154\"], [0.1111111111111111, \"#482878\"], [0.2222222222222222, \"#3e4989\"], [0.3333333333333333, \"#31688e\"], [0.4444444444444444, \"#26828e\"], [0.5555555555555556, \"#1f9e89\"], [0.6666666666666666, \"#35b779\"], [0.7777777777777778, \"#6ece58\"], [0.8888888888888888, \"#b5de2b\"], [1.0, \"#fde725\"]], \"size\": 5}, \"opacity\": 0.5, \"showlegend\": false, \"type\": \"scatter3d\", \"x\": [0, -0.9843582298085264, -1.9665023470871155, -1.9643573636701424, -2.091744268485581], \"y\": [0.5, 0.5, 0.5, 0.5, 0.5], \"z\": [0, -0.1761785327678275, 0.01195156289754179, 1.0119492624179662, 2.0038023646874215]}, {\"line\": {\"width\": 5}, \"marker\": {\"color\": [0, 0.6, 1.4, 1, 0.5], \"colorscale\": [[0.0, \"#440154\"], [0.1111111111111111, \"#482878\"], [0.2222222222222222, \"#3e4989\"], [0.3333333333333333, \"#31688e\"], [0.4444444444444444, \"#26828e\"], [0.5555555555555556, \"#1f9e89\"], [0.6666666666666666, \"#35b779\"], [0.7777777777777778, \"#6ece58\"], [0.8888888888888888, \"#b5de2b\"], [1.0, \"#fde725\"]], \"size\": 5}, \"opacity\": 0.5, \"showlegend\": false, \"type\": \"scatter3d\", \"x\": [0, -0.9932375740615805, -1.9542442195713092, -1.8957954302900881, -1.989705471953025], \"y\": [0.5, 0.5, 0.5, 0.5, 0.5], \"z\": [0, -0.11609961874298438, 0.16042565548369242, 1.1587160636473488, 2.154296750520525]}, {\"line\": {\"width\": 5}, \"marker\": {\"color\": [0, 0.6, 1.4, 1, 0.5], \"colorscale\": [[0.0, \"#440154\"], [0.1111111111111111, \"#482878\"], [0.2222222222222222, \"#3e4989\"], [0.3333333333333333, \"#31688e\"], [0.4444444444444444, \"#26828e\"], [0.5555555555555556, \"#1f9e89\"], [0.6666666666666666, \"#35b779\"], [0.7777777777777778, \"#6ece58\"], [0.8888888888888888, \"#b5de2b\"], [1.0, \"#fde725\"]], \"size\": 5}, \"opacity\": 0.5, \"showlegend\": false, \"type\": \"scatter3d\", \"x\": [0, -0.9983030947955622, -1.932538283345048, -1.8237211501290547, -1.8876667184762885], \"y\": [0.5, 0.5, 0.5, 0.5, 0.5], \"z\": [0, -0.058231700315228924, 0.29842585599881716, 1.292487640556826, 2.290441028390521]}, {\"line\": {\"width\": 5}, \"marker\": {\"color\": [0, 0.6, 1.4, 1, 0.5], \"colorscale\": [[0.0, \"#440154\"], [0.1111111111111111, \"#482878\"], [0.2222222222222222, \"#3e4989\"], [0.3333333333333333, \"#31688e\"], [0.4444444444444444, \"#26828e\"], [0.5555555555555556, \"#1f9e89\"], [0.6666666666666666, \"#35b779\"], [0.7777777777777778, \"#6ece58\"], [0.8888888888888888, \"#b5de2b\"], [1.0, \"#fde725\"]], \"size\": 5}, \"opacity\": 0.5, \"showlegend\": false, \"type\": \"scatter3d\", \"x\": [0, -0.9999483988398764, -1.9064296835030594, -1.7522679364508078, -1.7856280074964652], \"y\": [0.5, 0.5, 0.5, 0.5, 0.5], \"z\": [0, -0.010158723225265271, 0.412087272084797, 1.4001328964087945, 2.399576294335775]}, {\"line\": {\"width\": 5}, \"marker\": {\"color\": [0, 0.6, 1.4, 1, 0.5], \"colorscale\": [[0.0, \"#440154\"], [0.1111111111111111, \"#482878\"], [0.2222222222222222, \"#3e4989\"], [0.3333333333333333, \"#31688e\"], [0.4444444444444444, \"#26828e\"], [0.5555555555555556, \"#1f9e89\"], [0.6666666666666666, \"#35b779\"], [0.7777777777777778, \"#6ece58\"], [0.8888888888888888, \"#b5de2b\"], [1.0, \"#fde725\"]], \"size\": 5}, \"opacity\": 0.5, \"showlegend\": false, \"type\": \"scatter3d\", \"x\": [0, -0.999768254341775, -1.8826809553120585, -1.6861265652208115, -1.6835884892517246], \"y\": [0.5, 0.5, 0.5, 0.5, 0.5], \"z\": [0, 0.021527601129712633, 0.4910647801319281, 1.4715577029701594, 2.47155448205016]}, {\"line\": {\"width\": 5}, \"marker\": {\"color\": [0, 0.6, 1.4, 1, 0.5], \"colorscale\": [[0.0, \"#440154\"], [0.1111111111111111, \"#482878\"], [0.2222222222222222, \"#3e4989\"], [0.3333333333333333, \"#31688e\"], [0.4444444444444444, \"#26828e\"], [0.5555555555555556, \"#1f9e89\"], [0.6666666666666666, \"#35b779\"], [0.7777777777777778, \"#6ece58\"], [0.8888888888888888, \"#b5de2b\"], [1.0, \"#fde725\"]], \"size\": 5}, \"opacity\": 0.5, \"showlegend\": false, \"type\": \"scatter3d\", \"x\": [0, -0.9994722476262392, -1.867179089426814, -1.629141842520406, -1.5815490495940738], \"y\": [0.5, 0.5, 0.5, 0.5, 0.5], \"z\": [0, 0.03248424579628584, 0.5295605344004316, 1.5008165609378312, 2.499683381921225]}, {\"line\": {\"width\": 5}, \"marker\": {\"color\": [0, 0.6, 1.4, 1, 0.5], \"colorscale\": [[0.0, \"#440154\"], [0.1111111111111111, \"#482878\"], [0.2222222222222222, \"#3e4989\"], [0.3333333333333333, \"#31688e\"], [0.4444444444444444, \"#26828e\"], [0.5555555555555556, \"#1f9e89\"], [0.6666666666666666, \"#35b779\"], [0.7777777777777778, \"#6ece58\"], [0.8888888888888888, \"#b5de2b\"], [1.0, \"#fde725\"]], \"size\": 5}, \"opacity\": 0.5, \"showlegend\": false, \"type\": \"scatter3d\", \"x\": [0, -0.9997696333952846, -1.8627920301475362, -1.5831434439795926, -1.4795088606672786], \"y\": [0.5, 0.5, 0.5, 0.5, 0.5], \"z\": [0, 0.02146346059372377, 0.5266291192681823, 1.4867315451865166, 2.4813469850132286]}, {\"line\": {\"width\": 5}, \"marker\": {\"color\": [0, 0.6, 1.4, 1, 0.5], \"colorscale\": [[0.0, \"#440154\"], [0.1111111111111111, \"#482878\"], [0.2222222222222222, \"#3e4989\"], [0.3333333333333333, \"#31688e\"], [0.4444444444444444, \"#26828e\"], [0.5555555555555556, \"#1f9e89\"], [0.6666666666666666, \"#35b779\"], [0.7777777777777778, \"#6ece58\"], [0.8888888888888888, \"#b5de2b\"], [1.0, \"#fde725\"]], \"size\": 5}, \"opacity\": 0.5, \"showlegend\": false, \"type\": \"scatter3d\", \"x\": [0, -0.9999541135683172, -1.8686414696033564, -1.5474962516718362, -1.3774679463841593], \"y\": [0.5, 0.5, 0.5, 0.5, 0.5], \"z\": [0, -0.009579705517448125, 0.4857810493520236, 1.4328110113910904, 2.418250190336702]}, {\"line\": {\"width\": 5}, \"marker\": {\"color\": [0, 0.6, 1.4, 1, 0.5], \"colorscale\": [[0.0, \"#440154\"], [0.1111111111111111, \"#482878\"], [0.2222222222222222, \"#3e4989\"], [0.3333333333333333, \"#31688e\"], [0.4444444444444444, \"#26828e\"], [0.5555555555555556, \"#1f9e89\"], [0.6666666666666666, \"#35b779\"], [0.7777777777777778, \"#6ece58\"], [0.8888888888888888, \"#b5de2b\"], [1.0, \"#fde725\"]], \"size\": 5}, \"opacity\": 0.5, \"showlegend\": false, \"type\": \"scatter3d\", \"x\": [0, -0.9984250997829877, -1.8809736386955447, -1.5195056553539394, -1.2754271519547433], \"y\": [0.5, 0.5, 0.5, 0.5, 0.5], \"z\": [0, -0.05610098148277912, 0.41412032435449436, 1.3465048464369629, 2.3162603229249323]}, {\"line\": {\"width\": 5}, \"marker\": {\"color\": [0, 0.6, 1.4, 1, 0.5], \"colorscale\": [[0.0, \"#440154\"], [0.1111111111111111, \"#482878\"], [0.2222222222222222, \"#3e4989\"], [0.3333333333333333, \"#31688e\"], [0.4444444444444444, \"#26828e\"], [0.5555555555555556, \"#1f9e89\"], [0.6666666666666666, \"#35b779\"], [0.7777777777777778, \"#6ece58\"], [0.8888888888888888, \"#b5de2b\"], [1.0, \"#fde725\"]], \"size\": 5}, \"opacity\": 0.5, \"showlegend\": false, \"type\": \"scatter3d\", \"x\": [0, -0.9937133910646135, -1.8949335777878993, -1.4953889449945215, -1.173384805231902], \"y\": [0.5, 0.5, 0.5, 0.5, 0.5], \"z\": [0, -0.11195399242039741, 0.3214074906886187, 1.2381212335800431, 2.1848594941229114]}, {\"line\": {\"width\": 5}, \"marker\": {\"color\": [0, 0.6, 1.4, 1, 0.5], \"colorscale\": [[0.0, \"#440154\"], [0.1111111111111111, \"#482878\"], [0.2222222222222222, \"#3e4989\"], [0.3333333333333333, \"#31688e\"], [0.4444444444444444, \"#26828e\"], [0.5555555555555556, \"#1f9e89\"], [0.6666666666666666, \"#35b779\"], [0.7777777777777778, \"#6ece58\"], [0.8888888888888888, \"#b5de2b\"], [1.0, \"#fde725\"]], \"size\": 5}, \"opacity\": 0.5, \"showlegend\": false, \"type\": \"scatter3d\", \"x\": [0, -0.9853805066565344, -1.9063297400830228, -1.4713455801999025, -1.0713425807630061], \"y\": [0.5, 0.5, 0.5, 0.5, 0.5], \"z\": [0, -0.17036800492261325, 0.21931457032442464, 1.119752675166049, 2.0362665050897912]}, {\"line\": {\"width\": 5}, \"marker\": {\"color\": [0, 0.6, 1.4, 1, 0.5], \"colorscale\": [[0.0, \"#440154\"], [0.1111111111111111, \"#482878\"], [0.2222222222222222, \"#3e4989\"], [0.3333333333333333, \"#31688e\"], [0.4444444444444444, \"#26828e\"], [0.5555555555555556, \"#1f9e89\"], [0.6666666666666666, \"#35b779\"], [0.7777777777777778, \"#6ece58\"], [0.8888888888888888, \"#b5de2b\"], [1.0, \"#fde725\"]], \"size\": 5}, \"opacity\": 0.5, \"showlegend\": false, \"type\": \"scatter3d\", \"x\": [0, -0.9744253053348121, -1.9128183425675283, -1.4443452836759747, -0.9693005038901173], \"y\": [0.5, 0.5, 0.5, 0.5, 0.5], \"z\": [0, -0.22471164705719684, 0.12085818332901958, 1.0043359663506364, 1.8842975889218745]}, {\"line\": {\"width\": 5}, \"marker\": {\"color\": [0, 0.6, 1.4, 1, 0.5], \"colorscale\": [[0.0, \"#440154\"], [0.1111111111111111, \"#482878\"], [0.2222222222222222, \"#3e4989\"], [0.3333333333333333, \"#31688e\"], [0.4444444444444444, \"#26828e\"], [0.5555555555555556, \"#1f9e89\"], [0.6666666666666666, \"#35b779\"], [0.7777777777777778, \"#6ece58\"], [0.8888888888888888, \"#b5de2b\"], [1.0, \"#fde725\"]], \"size\": 5}, \"opacity\": 0.5, \"showlegend\": false, \"type\": \"scatter3d\", \"x\": [0, -0.9631409689117457, -1.9142692624735593, -1.4124495971466113, -0.867257711751692], \"y\": [0.5, 0.5, 0.5, 0.5, 0.5], \"z\": [0, -0.26899716356077746, 0.0397988357432819, 0.9047711032126788, 1.7430823867461487]}, {\"line\": {\"width\": 5}, \"marker\": {\"color\": [0, 0.6, 1.4, 1, 0.5], \"colorscale\": [[0.0, \"#440154\"], [0.1111111111111111, \"#482878\"], [0.2222222222222222, \"#3e4989\"], [0.3333333333333333, \"#31688e\"], [0.4444444444444444, \"#26828e\"], [0.5555555555555556, \"#1f9e89\"], [0.6666666666666666, \"#35b779\"], [0.7777777777777778, \"#6ece58\"], [0.8888888888888888, \"#b5de2b\"], [1.0, \"#fde725\"]], \"size\": 5}, \"opacity\": 0.5, \"showlegend\": false, \"type\": \"scatter3d\", \"x\": [0, -0.9545050642191757, -1.9121775550453588, -1.3746235210722644, -0.7652160133806141], \"y\": [0.5, 0.5, 0.5, 0.5, 0.5], \"z\": [0, -0.298194705486109, -0.010334669505470455, 0.832894635345383, 1.6257518037994818]}, {\"line\": {\"width\": 5}, \"marker\": {\"color\": [0, 0.6, 1.4, 1, 0.5], \"colorscale\": [[0.0, \"#440154\"], [0.1111111111111111, \"#482878\"], [0.2222222222222222, \"#3e4989\"], [0.3333333333333333, \"#31688e\"], [0.4444444444444444, \"#26828e\"], [0.5555555555555556, \"#1f9e89\"], [0.6666666666666666, \"#35b779\"], [0.7777777777777778, \"#6ece58\"], [0.8888888888888888, \"#b5de2b\"], [1.0, \"#fde725\"]], \"size\": 5}, \"opacity\": 0.5, \"showlegend\": false, \"type\": \"scatter3d\", \"x\": [0, -0.9512280049157346, -1.9080899242530838, -1.330143711310288, -0.6631745645588896], \"y\": [0.5, 0.5, 0.5, 0.5, 0.5], \"z\": [0, -0.30848870751460467, -0.01794565163123992, 0.7981292070337482, 1.5432145426039174]}, {\"line\": {\"width\": 5}, \"marker\": {\"color\": [0, 0.6, 1.4, 1, 0.5], \"colorscale\": [[0.0, \"#440154\"], [0.1111111111111111, \"#482878\"], [0.2222222222222222, \"#3e4989\"], [0.3333333333333333, \"#31688e\"], [0.4444444444444444, \"#26828e\"], [0.5555555555555556, \"#1f9e89\"], [0.6666666666666666, \"#35b779\"], [0.7777777777777778, \"#6ece58\"], [0.8888888888888888, \"#b5de2b\"], [1.0, \"#fde725\"]], \"size\": 5}, \"opacity\": 0.5, \"showlegend\": false, \"type\": \"scatter3d\", \"x\": [0, -0.9546905066624911, -1.901525147818658, -1.2779535277440615, -0.5611334050005671], \"y\": [0.5, 0.5, 0.5, 0.5, 0.5], \"z\": [0, -0.2976004645300742, 0.024120163199439867, 0.80588639081326, 1.5031445292598482]}, {\"line\": {\"width\": 5}, \"marker\": {\"color\": [0, 0.6, 1.4, 1, 0.5], \"colorscale\": [[0.0, \"#440154\"], [0.1111111111111111, \"#482878\"], [0.2222222222222222, \"#3e4989\"], [0.3333333333333333, \"#31688e\"], [0.4444444444444444, \"#26828e\"], [0.5555555555555556, \"#1f9e89\"], [0.6666666666666666, \"#35b779\"], [0.7777777777777778, \"#6ece58\"], [0.8888888888888888, \"#b5de2b\"], [1.0, \"#fde725\"]], \"size\": 5}, \"opacity\": 0.5, \"showlegend\": false, \"type\": \"scatter3d\", \"x\": [0, -0.9642064786175886, -1.8887295022702653, -1.216471316684816, -0.45909348692894647], \"y\": [0.5, 0.5, 0.5, 0.5, 0.5], \"z\": [0, -0.2651525345756093, 0.11597366333803774, 0.8562904414225007, 1.5092673345774494]}, {\"line\": {\"width\": 5}, \"marker\": {\"color\": [0, 0.6, 1.4, 1, 0.5], \"colorscale\": [[0.0, \"#440154\"], [0.1111111111111111, \"#482878\"], [0.2222222222222222, \"#3e4989\"], [0.3333333333333333, \"#31688e\"], [0.4444444444444444, \"#26828e\"], [0.5555555555555556, \"#1f9e89\"], [0.6666666666666666, \"#35b779\"], [0.7777777777777778, \"#6ece58\"], [0.8888888888888888, \"#b5de2b\"], [1.0, \"#fde725\"]], \"size\": 5}, \"opacity\": 0.5, \"showlegend\": false, \"type\": \"scatter3d\", \"x\": [0, -0.9770940827696587, -1.863695397898082, -1.1441101592843763, -0.3570548143802867], \"y\": [0.5, 0.5, 0.5, 0.5, 0.5], \"z\": [0, -0.21280778514076806, 0.24972665467161, 0.9441307764690372, 1.5610131672518384]}, {\"line\": {\"width\": 5}, \"marker\": {\"color\": [0, 0.6, 1.4, 1, 0.5], \"colorscale\": [[0.0, \"#440154\"], [0.1111111111111111, \"#482878\"], [0.2222222222222222, \"#3e4989\"], [0.3333333333333333, \"#31688e\"], [0.4444444444444444, \"#26828e\"], [0.5555555555555556, \"#1f9e89\"], [0.6666666666666666, \"#35b779\"], [0.7777777777777778, \"#6ece58\"], [0.8888888888888888, \"#b5de2b\"], [1.0, \"#fde725\"]], \"size\": 5}, \"opacity\": 0.5, \"showlegend\": false, \"type\": \"scatter3d\", \"x\": [0, -0.9895905178526334, -1.8210786905592957, -1.0600992590664846, -0.25501734256893877], \"y\": [0.5, 0.5, 0.5, 0.5, 0.5], \"z\": [0, -0.14391180276876833, 0.41163065163857543, 1.0604066567781594, 1.6535703000745428]}, {\"line\": {\"width\": 5}, \"marker\": {\"color\": [0, 0.6, 1.4, 1, 0.5], \"colorscale\": [[0.0, \"#440154\"], [0.1111111111111111, \"#482878\"], [0.2222222222222222, \"#3e4989\"], [0.3333333333333333, \"#31688e\"], [0.4444444444444444, \"#26828e\"], [0.5555555555555556, \"#1f9e89\"], [0.6666666666666666, \"#35b779\"], [0.7777777777777778, \"#6ece58\"], [0.8888888888888888, \"#b5de2b\"], [1.0, \"#fde725\"]], \"size\": 5}, \"opacity\": 0.5, \"showlegend\": false, \"type\": \"scatter3d\", \"x\": [0, -0.998026828264597, -1.758684423882583, -0.9649198026567185, -0.15298178252016348], \"y\": [0.5, 0.5, 0.5, 0.5, 0.5], \"z\": [0, -0.06278893265622955, 0.5863643791497448, 1.1945894411869482, 1.778333093363767]}, {\"line\": {\"width\": 5}, \"marker\": {\"color\": [0, 0.6, 1.4, 1, 0.5], \"colorscale\": [[0.0, \"#440154\"], [0.1111111111111111, \"#482878\"], [0.2222222222222222, \"#3e4989\"], [0.3333333333333333, \"#31688e\"], [0.4444444444444444, \"#26828e\"], [0.5555555555555556, \"#1f9e89\"], [0.6666666666666666, \"#35b779\"], [0.7777777777777778, \"#6ece58\"], [0.8888888888888888, \"#b5de2b\"], [1.0, \"#fde725\"]], \"size\": 5}, \"opacity\": 0.5, \"showlegend\": false, \"type\": \"scatter3d\", \"x\": [0, -0.999666570633228, -1.6779314924212392, -0.8602255939909373, -0.05094781616190783], \"y\": [0.5, 0.5, 0.5, 0.5, 0.5], \"z\": [0, 0.02582145538890943, 0.7606389129060148, 1.336275138027656, 1.9237012851407276]}, {\"line\": {\"width\": 5}, \"marker\": {\"color\": [0, 0.6, 1.4, 1, 0.5], \"colorscale\": [[0.0, \"#440154\"], [0.1111111111111111, \"#482878\"], [0.2222222222222222, \"#3e4989\"], [0.3333333333333333, \"#31688e\"], [0.4444444444444444, \"#26828e\"], [0.5555555555555556, \"#1f9e89\"], [0.6666666666666666, \"#35b779\"], [0.7777777777777778, \"#6ece58\"], [0.8888888888888888, \"#b5de2b\"], [1.0, \"#fde725\"]], \"size\": 5}, \"opacity\": 0.5, \"showlegend\": false, \"type\": \"scatter3d\", \"x\": [0, -0.9931364339754428, -1.5829521405106184, -0.7486433607551819, 0.0510856214085112], \"y\": [0.5, 0.5, 0.5, 0.5, 0.5], \"z\": [0, 0.11696163264310609, 0.9244995155466958, 1.475796948900956, 2.076158136093652]}, {\"line\": {\"width\": 5}, \"marker\": {\"color\": [0, 0.6, 1.4, 1, 0.5], \"colorscale\": [[0.0, \"#440154\"], [0.1111111111111111, \"#482878\"], [0.2222222222222222, \"#3e4989\"], [0.3333333333333333, \"#31688e\"], [0.4444444444444444, \"#26828e\"], [0.5555555555555556, \"#1f9e89\"], [0.6666666666666666, \"#35b779\"], [0.7777777777777778, \"#6ece58\"], [0.8888888888888888, \"#b5de2b\"], [1.0, \"#fde725\"]], \"size\": 5}, \"opacity\": 0.5, \"showlegend\": false, \"type\": \"scatter3d\", \"x\": [0, -0.9786533581367147, -1.4795934264887822, -0.633675495075242, 0.1531187484673117], \"y\": [0.5, 0.5, 0.5, 0.5, 0.5], \"z\": [0, 0.20551789364367085, 1.070999867990581, 1.6043129592540875, 2.2215283335994616]}, {\"line\": {\"width\": 5}, \"marker\": {\"color\": [0, 0.6, 1.4, 1, 0.5], \"colorscale\": [[0.0, \"#440154\"], [0.1111111111111111, \"#482878\"], [0.2222222222222222, \"#3e4989\"], [0.3333333333333333, \"#31688e\"], [0.4444444444444444, \"#26828e\"], [0.5555555555555556, \"#1f9e89\"], [0.6666666666666666, \"#35b779\"], [0.7777777777777778, \"#6ece58\"], [0.8888888888888888, \"#b5de2b\"], [1.0, \"#fde725\"]], \"size\": 5}, \"opacity\": 0.5, \"showlegend\": false, \"type\": \"scatter3d\", \"x\": [0, -0.9580867380201434, -1.3746871116530768, -0.5195466036752627, 0.25515228396804823], \"y\": [0.5, 0.5, 0.5, 0.5, 0.5], \"z\": [0, 0.2864782756683673, 1.1955680009919465, 1.7139642891880007, 2.346294609103325]}, {\"line\": {\"width\": 5}, \"marker\": {\"color\": [0, 0.6, 1.4, 1, 0.5], \"colorscale\": [[0.0, \"#440154\"], [0.1111111111111111, \"#482878\"], [0.2222222222222222, \"#3e4989\"], [0.3333333333333333, \"#31688e\"], [0.4444444444444444, \"#26828e\"], [0.5555555555555556, \"#1f9e89\"], [0.6666666666666666, \"#35b779\"], [0.7777777777777778, \"#6ece58\"], [0.8888888888888888, \"#b5de2b\"], [1.0, \"#fde725\"]], \"size\": 5}, \"opacity\": 0.5, \"showlegend\": false, \"type\": \"scatter3d\", \"x\": [0, -0.9346775089651186, -1.2752587201402183, -0.41074881870805874, 0.35718709336434185], \"y\": [0.5, 0.5, 0.5, 0.5, 0.5], \"z\": [0, 0.35549677106094885, 1.2957118733617479, 1.7983276613407544, 2.438854346928115]}, {\"line\": {\"width\": 5}, \"marker\": {\"color\": [0, 0.6, 1.4, 1, 0.5], \"colorscale\": [[0.0, \"#440154\"], [0.1111111111111111, \"#482878\"], [0.2222222222222222, \"#3e4989\"], [0.3333333333333333, \"#31688e\"], [0.4444444444444444, \"#26828e\"], [0.5555555555555556, \"#1f9e89\"], [0.6666666666666666, \"#35b779\"], [0.7777777777777778, \"#6ece58\"], [0.8888888888888888, \"#b5de2b\"], [1.0, \"#fde725\"]], \"size\": 5}, \"opacity\": 0.5, \"showlegend\": false, \"type\": \"scatter3d\", \"x\": [0, -0.9122528986136387, -1.1873593923400232, -0.3112096768178739, 0.4592220318212858], \"y\": [0.5, 0.5, 0.5, 0.5, 0.5], \"z\": [0, 0.409627451437296, 1.371041211017205, 1.8530802924104637, 2.4906028271677423]}, {\"line\": {\"width\": 5}, \"marker\": {\"color\": [0, 0.6, 1.4, 1, 0.5], \"colorscale\": [[0.0, \"#440154\"], [0.1111111111111111, \"#482878\"], [0.2222222222222222, \"#3e4989\"], [0.3333333333333333, \"#31688e\"], [0.4444444444444444, \"#26828e\"], [0.5555555555555556, \"#1f9e89\"], [0.6666666666666666, \"#35b779\"], [0.7777777777777778, \"#6ece58\"], [0.8888888888888888, \"#b5de2b\"], [1.0, \"#fde725\"]], \"size\": 5}, \"opacity\": 0.5, \"showlegend\": false, \"type\": \"scatter3d\", \"x\": [0, -0.8940557793433841, -1.1146255929261704, -0.22327114691414407, 0.561258096189335], \"y\": [0.5, 0.5, 0.5, 0.5, 0.5], \"z\": [0, 0.44795564894606926, 1.4233268384611455, 1.8766338553653559, 2.496725676562412]}, {\"line\": {\"width\": 5}, \"marker\": {\"color\": [0, 0.6, 1.4, 1, 0.5], \"colorscale\": [[0.0, \"#440154\"], [0.1111111111111111, \"#482878\"], [0.2222222222222222, \"#3e4989\"], [0.3333333333333333, \"#31688e\"], [0.4444444444444444, \"#26828e\"], [0.5555555555555556, \"#1f9e89\"], [0.6666666666666666, \"#35b779\"], [0.7777777777777778, \"#6ece58\"], [0.8888888888888888, \"#b5de2b\"], [1.0, \"#fde725\"]], \"size\": 5}, \"opacity\": 0.5, \"showlegend\": false, \"type\": \"scatter3d\", \"x\": [0, -0.881662947739453, -1.0571154327332293, -0.14688845351479302, 0.6632945485079439], \"y\": [0.5, 0.5, 0.5, 0.5, 0.5], \"z\": [0, 0.4718796950318785, 1.4563675951655006, 1.8704772983878237, 2.4566543221898707]}, {\"line\": {\"width\": 5}, \"marker\": {\"color\": [0, 0.6, 1.4, 1, 0.5], \"colorscale\": [[0.0, \"#440154\"], [0.1111111111111111, \"#482878\"], [0.2222222222222222, \"#3e4989\"], [0.3333333333333333, \"#31688e\"], [0.4444444444444444, \"#26828e\"], [0.5555555555555556, \"#1f9e89\"], [0.6666666666666666, \"#35b779\"], [0.7777777777777778, \"#6ece58\"], [0.8888888888888888, \"#b5de2b\"], [1.0, \"#fde725\"]], \"size\": 5}, \"opacity\": 0.5, \"showlegend\": false, \"type\": \"scatter3d\", \"x\": [0, -0.874558102861037, -1.011068100975583, -0.07945381001330348, 0.7653313488427254], \"y\": [0.5, 0.5, 0.5, 0.5, 0.5], \"z\": [0, 0.48492074065779445, 1.4755594338324385, 1.8390079348265258, 2.3741135649376233]}, {\"line\": {\"width\": 5}, \"marker\": {\"color\": [0, 0.6, 1.4, 1, 0.5], \"colorscale\": [[0.0, \"#440154\"], [0.1111111111111111, \"#482878\"], [0.2222222222222222, \"#3e4989\"], [0.3333333333333333, \"#31688e\"], [0.4444444444444444, \"#26828e\"], [0.5555555555555556, \"#1f9e89\"], [0.6666666666666666, \"#35b779\"], [0.7777777777777778, \"#6ece58\"], [0.8888888888888888, \"#b5de2b\"], [1.0, \"#fde725\"]], \"size\": 5}, \"opacity\": 0.5, \"showlegend\": false, \"type\": \"scatter3d\", \"x\": [0, -0.8705389600279934, -0.9698009820550649, -0.016389675303883383, 0.8673676254246006], \"y\": [0.5, 0.5, 0.5, 0.5, 0.5], \"z\": [0, 0.492099501191964, 1.4871608314541227, 1.7888342975710558, 2.2567798429169907]}, {\"line\": {\"width\": 5}, \"marker\": {\"color\": [0, 0.6, 1.4, 1, 0.5], \"colorscale\": [[0.0, \"#440154\"], [0.1111111111111111, \"#482878\"], [0.2222222222222222, \"#3e4989\"], [0.3333333333333333, \"#31688e\"], [0.4444444444444444, \"#26828e\"], [0.5555555555555556, \"#1f9e89\"], [0.6666666666666666, \"#35b779\"], [0.7777777777777778, \"#6ece58\"], [0.8888888888888888, \"#b5de2b\"], [1.0, \"#fde725\"]], \"size\": 5}, \"opacity\": 0.5, \"showlegend\": false, \"type\": \"scatter3d\", \"x\": [0, -0.8666092066754632, -0.925399671177604, 0.04768773569677594, 0.9694035935328292], \"y\": [0.5, 0.5, 0.5, 0.5, 0.5], \"z\": [0, 0.4989874576633409, 1.4972578024515764, 1.7276941246373274, 2.1155599228376163]}, {\"line\": {\"width\": 5}, \"marker\": {\"color\": [0, 0.6, 1.4, 1, 0.5], \"colorscale\": [[0.0, \"#440154\"], [0.1111111111111111, \"#482878\"], [0.2222222222222222, \"#3e4989\"], [0.3333333333333333, \"#31688e\"], [0.4444444444444444, \"#26828e\"], [0.5555555555555556, \"#1f9e89\"], [0.6666666666666666, \"#35b779\"], [0.7777777777777778, \"#6ece58\"], [0.8888888888888888, \"#b5de2b\"], [1.0, \"#fde725\"]], \"size\": 5}, \"opacity\": 0.5, \"showlegend\": false, \"type\": \"scatter3d\", \"x\": [0, -0.8598316229106749, -0.8706664132682331, 0.11759797317268464, 1.0714380705535242], \"y\": [0.5, 0.5, 0.5, 0.5, 0.5], \"z\": [0, 0.5105776926607692, 1.5105189945969917, 1.663272071464714, 1.9635870205240478]}, {\"line\": {\"width\": 5}, \"marker\": {\"color\": [0, 0.6, 1.4, 1, 0.5], \"colorscale\": [[0.0, \"#440154\"], [0.1111111111111111, \"#482878\"], [0.2222222222222222, \"#3e4989\"], [0.3333333333333333, \"#31688e\"], [0.4444444444444444, \"#26828e\"], [0.5555555555555556, \"#1f9e89\"], [0.6666666666666666, \"#35b779\"], [0.7777777777777778, \"#6ece58\"], [0.8888888888888888, \"#b5de2b\"], [1.0, \"#fde725\"]], \"size\": 5}, \"opacity\": 0.5, \"showlegend\": false, \"type\": \"scatter3d\", \"x\": [0, -0.8478815669363114, -0.8009542864365816, 0.19636733413310223, 1.1734704677711885], \"y\": [0.5, 0.5, 0.5, 0.5, 0.5], \"z\": [0, 0.5301856735612772, 1.5290839818714372, 1.6022248401126382, 1.8149910644872598]}, {\"line\": {\"width\": 5}, \"marker\": {\"color\": [0, 0.6, 1.4, 1, 0.5], \"colorscale\": [[0.0, \"#440154\"], [0.1111111111111111, \"#482878\"], [0.2222222222222222, \"#3e4989\"], [0.3333333333333333, \"#31688e\"], [0.4444444444444444, \"#26828e\"], [0.5555555555555556, \"#1f9e89\"], [0.6666666666666666, \"#35b779\"], [0.7777777777777778, \"#6ece58\"], [0.8888888888888888, \"#b5de2b\"], [1.0, \"#fde725\"]], \"size\": 5}, \"opacity\": 0.5, \"showlegend\": false, \"type\": \"scatter3d\", \"x\": [0, -0.8293358463211392, -0.7155001432589808, 0.284496739492322, 1.2755001844122724], \"y\": [0.5, 0.5, 0.5, 0.5, 0.5], \"z\": [0, 0.5587504398269407, 1.5522500285074514, 1.5497531328994478, 1.6835894962570603]}, {\"line\": {\"width\": 5}, \"marker\": {\"color\": [0, 0.6, 1.4, 1, 0.5], \"colorscale\": [[0.0, \"#440154\"], [0.1111111111111111, \"#482878\"], [0.2222222222222222, \"#3e4989\"], [0.3333333333333333, \"#31688e\"], [0.4444444444444444, \"#26828e\"], [0.5555555555555556, \"#1f9e89\"], [0.6666666666666666, \"#35b779\"], [0.7777777777777778, \"#6ece58\"], [0.8888888888888888, \"#b5de2b\"], [1.0, \"#fde725\"]], \"size\": 5}, \"opacity\": 0.5, \"showlegend\": false, \"type\": \"scatter3d\", \"x\": [0, -0.8037744630645892, -0.6176010840547741, 0.3801082030803415, 1.377527476421735], \"y\": [0.5, 0.5, 0.5, 0.5, 0.5], \"z\": [0, 0.5949341245257589, 1.5774510317329924, 1.5098035752816266, 1.581600463564665]}, {\"line\": {\"width\": 5}, \"marker\": {\"color\": [0, 0.6, 1.4, 1, 0.5], \"colorscale\": [[0.0, \"#440154\"], [0.1111111111111111, \"#482878\"], [0.2222222222222222, \"#3e4989\"], [0.3333333333333333, \"#31688e\"], [0.4444444444444444, \"#26828e\"], [0.5555555555555556, \"#1f9e89\"], [0.6666666666666666, \"#35b779\"], [0.7777777777777778, \"#6ece58\"], [0.8888888888888888, \"#b5de2b\"], [1.0, \"#fde725\"]], \"size\": 5}, \"opacity\": 0.5, \"showlegend\": false, \"type\": \"scatter3d\", \"x\": [0, -0.7716093458313437, -0.5130844496250357, 0.4800984799737008, 1.4795547017656312], \"y\": [0.5, 0.5, 0.5, 0.5, 0.5], \"z\": [0, 0.6360967044606708, 1.6021012997093258, 1.4855351453004624, 1.5185087820637782]}, {\"line\": {\"width\": 5}, \"marker\": {\"color\": [0, 0.6, 1.4, 1, 0.5], \"colorscale\": [[0.0, \"#440154\"], [0.1111111111111111, \"#482878\"], [0.2222222222222222, \"#3e4989\"], [0.3333333333333333, \"#31688e\"], [0.4444444444444444, \"#26828e\"], [0.5555555555555556, \"#1f9e89\"], [0.6666666666666666, \"#35b779\"], [0.7777777777777778, \"#6ece58\"], [0.8888888888888888, \"#b5de2b\"], [1.0, \"#fde725\"]], \"size\": 5}, \"opacity\": 1, \"showlegend\": false, \"type\": \"scatter3d\", \"x\": [0, -0.7335474650689703, -0.40754844897120723, 0.5817992461972638, 1.5815841136788902], \"y\": [0.5, 0.5, 0.5, 0.5, 0.5], \"z\": [0, 0.6796382247128894, 1.6250083329262233, 1.4794365703318448, 1.5001782856598267]}],\n",
              "                        {\"colorscale\": {\"diverging\": [[0.0, \"rgb(3, 35, 51)\"], [0.09090909090909091, \"rgb(13, 48, 100)\"], [0.18181818181818182, \"rgb(53, 50, 155)\"], [0.2727272727272727, \"rgb(93, 62, 153)\"], [0.36363636363636365, \"rgb(126, 77, 143)\"], [0.45454545454545453, \"rgb(158, 89, 135)\"], [0.5454545454545454, \"rgb(193, 100, 121)\"], [0.6363636363636364, \"rgb(225, 113, 97)\"], [0.7272727272727273, \"rgb(246, 139, 69)\"], [0.8181818181818182, \"rgb(251, 173, 60)\"], [0.9090909090909091, \"rgb(246, 211, 70)\"], [1.0, \"rgb(231, 250, 90)\"]]}, \"height\": 700, \"scene\": {\"aspectratio\": {\"x\": 1, \"y\": 0.25, \"z\": 0.7}, \"camera\": {\"eye\": {\"x\": 0, \"y\": -1.25, \"z\": 0.1}}, \"xaxis\": {\"title\": {\"text\": \"Robot x-axis\"}}, \"yaxis\": {\"title\": {\"text\": \"Robot z-axis\"}}, \"zaxis\": {\"title\": {\"text\": \"Robot y-axis\"}}}, \"template\": {\"data\": {\"bar\": [{\"error_x\": {\"color\": \"#2a3f5f\"}, \"error_y\": {\"color\": \"#2a3f5f\"}, \"marker\": {\"line\": {\"color\": \"#E5ECF6\", \"width\": 0.5}}, \"type\": \"bar\"}], \"barpolar\": [{\"marker\": {\"line\": {\"color\": \"#E5ECF6\", \"width\": 0.5}}, \"type\": \"barpolar\"}], \"carpet\": [{\"aaxis\": {\"endlinecolor\": \"#2a3f5f\", \"gridcolor\": \"white\", \"linecolor\": \"white\", \"minorgridcolor\": \"white\", \"startlinecolor\": \"#2a3f5f\"}, \"baxis\": {\"endlinecolor\": \"#2a3f5f\", \"gridcolor\": \"white\", \"linecolor\": \"white\", \"minorgridcolor\": \"white\", \"startlinecolor\": \"#2a3f5f\"}, \"type\": \"carpet\"}], \"choropleth\": [{\"colorbar\": {\"outlinewidth\": 0, \"ticks\": \"\"}, \"type\": \"choropleth\"}], \"contour\": [{\"colorbar\": {\"outlinewidth\": 0, \"ticks\": \"\"}, \"colorscale\": [[0.0, \"#0d0887\"], [0.1111111111111111, \"#46039f\"], [0.2222222222222222, \"#7201a8\"], [0.3333333333333333, \"#9c179e\"], [0.4444444444444444, \"#bd3786\"], [0.5555555555555556, \"#d8576b\"], [0.6666666666666666, \"#ed7953\"], [0.7777777777777778, \"#fb9f3a\"], [0.8888888888888888, \"#fdca26\"], [1.0, \"#f0f921\"]], \"type\": \"contour\"}], \"contourcarpet\": [{\"colorbar\": {\"outlinewidth\": 0, \"ticks\": \"\"}, \"type\": \"contourcarpet\"}], \"heatmap\": [{\"colorbar\": {\"outlinewidth\": 0, \"ticks\": \"\"}, \"colorscale\": [[0.0, \"#0d0887\"], [0.1111111111111111, \"#46039f\"], [0.2222222222222222, \"#7201a8\"], [0.3333333333333333, \"#9c179e\"], [0.4444444444444444, \"#bd3786\"], [0.5555555555555556, \"#d8576b\"], [0.6666666666666666, \"#ed7953\"], [0.7777777777777778, \"#fb9f3a\"], [0.8888888888888888, \"#fdca26\"], [1.0, \"#f0f921\"]], \"type\": \"heatmap\"}], \"heatmapgl\": [{\"colorbar\": {\"outlinewidth\": 0, \"ticks\": \"\"}, \"colorscale\": [[0.0, \"#0d0887\"], [0.1111111111111111, \"#46039f\"], [0.2222222222222222, \"#7201a8\"], [0.3333333333333333, \"#9c179e\"], [0.4444444444444444, \"#bd3786\"], [0.5555555555555556, \"#d8576b\"], [0.6666666666666666, \"#ed7953\"], [0.7777777777777778, \"#fb9f3a\"], [0.8888888888888888, \"#fdca26\"], [1.0, \"#f0f921\"]], \"type\": \"heatmapgl\"}], \"histogram\": [{\"marker\": {\"colorbar\": {\"outlinewidth\": 0, \"ticks\": \"\"}}, \"type\": \"histogram\"}], \"histogram2d\": [{\"colorbar\": {\"outlinewidth\": 0, \"ticks\": \"\"}, \"colorscale\": [[0.0, \"#0d0887\"], [0.1111111111111111, \"#46039f\"], [0.2222222222222222, \"#7201a8\"], [0.3333333333333333, \"#9c179e\"], [0.4444444444444444, \"#bd3786\"], [0.5555555555555556, \"#d8576b\"], [0.6666666666666666, \"#ed7953\"], [0.7777777777777778, \"#fb9f3a\"], [0.8888888888888888, \"#fdca26\"], [1.0, \"#f0f921\"]], \"type\": \"histogram2d\"}], \"histogram2dcontour\": [{\"colorbar\": {\"outlinewidth\": 0, \"ticks\": \"\"}, \"colorscale\": [[0.0, \"#0d0887\"], [0.1111111111111111, \"#46039f\"], [0.2222222222222222, \"#7201a8\"], [0.3333333333333333, \"#9c179e\"], [0.4444444444444444, \"#bd3786\"], [0.5555555555555556, \"#d8576b\"], [0.6666666666666666, \"#ed7953\"], [0.7777777777777778, \"#fb9f3a\"], [0.8888888888888888, \"#fdca26\"], [1.0, \"#f0f921\"]], \"type\": \"histogram2dcontour\"}], \"mesh3d\": [{\"colorbar\": {\"outlinewidth\": 0, \"ticks\": \"\"}, \"type\": \"mesh3d\"}], \"parcoords\": [{\"line\": {\"colorbar\": {\"outlinewidth\": 0, \"ticks\": \"\"}}, \"type\": \"parcoords\"}], \"pie\": [{\"automargin\": true, \"type\": \"pie\"}], \"scatter\": [{\"marker\": {\"colorbar\": {\"outlinewidth\": 0, \"ticks\": \"\"}}, \"type\": \"scatter\"}], \"scatter3d\": [{\"line\": {\"colorbar\": {\"outlinewidth\": 0, \"ticks\": \"\"}}, \"marker\": {\"colorbar\": {\"outlinewidth\": 0, \"ticks\": \"\"}}, \"type\": \"scatter3d\"}], \"scattercarpet\": [{\"marker\": {\"colorbar\": {\"outlinewidth\": 0, \"ticks\": \"\"}}, \"type\": \"scattercarpet\"}], \"scattergeo\": [{\"marker\": {\"colorbar\": {\"outlinewidth\": 0, \"ticks\": \"\"}}, \"type\": \"scattergeo\"}], \"scattergl\": [{\"marker\": {\"colorbar\": {\"outlinewidth\": 0, \"ticks\": \"\"}}, \"type\": \"scattergl\"}], \"scattermapbox\": [{\"marker\": {\"colorbar\": {\"outlinewidth\": 0, \"ticks\": \"\"}}, \"type\": \"scattermapbox\"}], \"scatterpolar\": [{\"marker\": {\"colorbar\": {\"outlinewidth\": 0, \"ticks\": \"\"}}, \"type\": \"scatterpolar\"}], \"scatterpolargl\": [{\"marker\": {\"colorbar\": {\"outlinewidth\": 0, \"ticks\": \"\"}}, \"type\": \"scatterpolargl\"}], \"scatterternary\": [{\"marker\": {\"colorbar\": {\"outlinewidth\": 0, \"ticks\": \"\"}}, \"type\": \"scatterternary\"}], \"surface\": [{\"colorbar\": {\"outlinewidth\": 0, \"ticks\": \"\"}, \"colorscale\": [[0.0, \"#0d0887\"], [0.1111111111111111, \"#46039f\"], [0.2222222222222222, \"#7201a8\"], [0.3333333333333333, \"#9c179e\"], [0.4444444444444444, \"#bd3786\"], [0.5555555555555556, \"#d8576b\"], [0.6666666666666666, \"#ed7953\"], [0.7777777777777778, \"#fb9f3a\"], [0.8888888888888888, \"#fdca26\"], [1.0, \"#f0f921\"]], \"type\": \"surface\"}], \"table\": [{\"cells\": {\"fill\": {\"color\": \"#EBF0F8\"}, \"line\": {\"color\": \"white\"}}, \"header\": {\"fill\": {\"color\": \"#C8D4E3\"}, \"line\": {\"color\": \"white\"}}, \"type\": \"table\"}]}, \"layout\": {\"annotationdefaults\": {\"arrowcolor\": \"#2a3f5f\", \"arrowhead\": 0, \"arrowwidth\": 1}, \"coloraxis\": {\"colorbar\": {\"outlinewidth\": 0, \"ticks\": \"\"}}, \"colorscale\": {\"diverging\": [[0, \"#8e0152\"], [0.1, \"#c51b7d\"], [0.2, \"#de77ae\"], [0.3, \"#f1b6da\"], [0.4, \"#fde0ef\"], [0.5, \"#f7f7f7\"], [0.6, \"#e6f5d0\"], [0.7, \"#b8e186\"], [0.8, \"#7fbc41\"], [0.9, \"#4d9221\"], [1, \"#276419\"]], \"sequential\": [[0.0, \"#0d0887\"], [0.1111111111111111, \"#46039f\"], [0.2222222222222222, \"#7201a8\"], [0.3333333333333333, \"#9c179e\"], [0.4444444444444444, \"#bd3786\"], [0.5555555555555556, \"#d8576b\"], [0.6666666666666666, \"#ed7953\"], [0.7777777777777778, \"#fb9f3a\"], [0.8888888888888888, \"#fdca26\"], [1.0, \"#f0f921\"]], \"sequentialminus\": [[0.0, \"#0d0887\"], [0.1111111111111111, \"#46039f\"], [0.2222222222222222, \"#7201a8\"], [0.3333333333333333, \"#9c179e\"], [0.4444444444444444, \"#bd3786\"], [0.5555555555555556, \"#d8576b\"], [0.6666666666666666, \"#ed7953\"], [0.7777777777777778, \"#fb9f3a\"], [0.8888888888888888, \"#fdca26\"], [1.0, \"#f0f921\"]]}, \"colorway\": [\"#636efa\", \"#EF553B\", \"#00cc96\", \"#ab63fa\", \"#FFA15A\", \"#19d3f3\", \"#FF6692\", \"#B6E880\", \"#FF97FF\", \"#FECB52\"], \"font\": {\"color\": \"#2a3f5f\"}, \"geo\": {\"bgcolor\": \"white\", \"lakecolor\": \"white\", \"landcolor\": \"#E5ECF6\", \"showlakes\": true, \"showland\": true, \"subunitcolor\": \"white\"}, \"hoverlabel\": {\"align\": \"left\"}, \"hovermode\": \"closest\", \"mapbox\": {\"style\": \"light\"}, \"paper_bgcolor\": \"white\", \"plot_bgcolor\": \"#E5ECF6\", \"polar\": {\"angularaxis\": {\"gridcolor\": \"white\", \"linecolor\": \"white\", \"ticks\": \"\"}, \"bgcolor\": \"#E5ECF6\", \"radialaxis\": {\"gridcolor\": \"white\", \"linecolor\": \"white\", \"ticks\": \"\"}}, \"scene\": {\"xaxis\": {\"backgroundcolor\": \"#E5ECF6\", \"gridcolor\": \"white\", \"gridwidth\": 2, \"linecolor\": \"white\", \"showbackground\": true, \"ticks\": \"\", \"zerolinecolor\": \"white\"}, \"yaxis\": {\"backgroundcolor\": \"#E5ECF6\", \"gridcolor\": \"white\", \"gridwidth\": 2, \"linecolor\": \"white\", \"showbackground\": true, \"ticks\": \"\", \"zerolinecolor\": \"white\"}, \"zaxis\": {\"backgroundcolor\": \"#E5ECF6\", \"gridcolor\": \"white\", \"gridwidth\": 2, \"linecolor\": \"white\", \"showbackground\": true, \"ticks\": \"\", \"zerolinecolor\": \"white\"}}, \"shapedefaults\": {\"line\": {\"color\": \"#2a3f5f\"}}, \"ternary\": {\"aaxis\": {\"gridcolor\": \"white\", \"linecolor\": \"white\", \"ticks\": \"\"}, \"baxis\": {\"gridcolor\": \"white\", \"linecolor\": \"white\", \"ticks\": \"\"}, \"bgcolor\": \"#E5ECF6\", \"caxis\": {\"gridcolor\": \"white\", \"linecolor\": \"white\", \"ticks\": \"\"}}, \"title\": {\"x\": 0.05}, \"xaxis\": {\"automargin\": true, \"gridcolor\": \"white\", \"linecolor\": \"white\", \"ticks\": \"\", \"title\": {\"standoff\": 15}, \"zerolinecolor\": \"white\", \"zerolinewidth\": 2}, \"yaxis\": {\"automargin\": true, \"gridcolor\": \"white\", \"linecolor\": \"white\", \"ticks\": \"\", \"title\": {\"standoff\": 15}, \"zerolinecolor\": \"white\", \"zerolinewidth\": 2}}}, \"title\": {\"text\": \"Robot in joint Configurations\"}, \"width\": 1000},\n",
              "                        {\"responsive\": true}\n",
              "                    ).then(function(){\n",
              "                            \n",
              "var gd = document.getElementById('ed3508c7-7cc4-4e2c-88ab-04e266c8f1c2');\n",
              "var x = new MutationObserver(function (mutations, observer) {{\n",
              "        var display = window.getComputedStyle(gd).display;\n",
              "        if (!display || display === 'none') {{\n",
              "            console.log([gd, 'removed!']);\n",
              "            Plotly.purge(gd);\n",
              "            observer.disconnect();\n",
              "        }}\n",
              "}});\n",
              "\n",
              "// Listen for the removal of the full notebook cells\n",
              "var notebookContainer = gd.closest('#notebook-container');\n",
              "if (notebookContainer) {{\n",
              "    x.observe(notebookContainer, {childList: true});\n",
              "}}\n",
              "\n",
              "// Listen for the clearing of the current output cell\n",
              "var outputEl = gd.closest('.output');\n",
              "if (outputEl) {{\n",
              "    x.observe(outputEl, {childList: true});\n",
              "}}\n",
              "\n",
              "                        })\n",
              "                };\n",
              "                \n",
              "            </script>\n",
              "        </div>\n",
              "</body>\n",
              "</html>"
            ]
          },
          "metadata": {
            "tags": []
          }
        }
      ]
    },
    {
      "cell_type": "code",
      "metadata": {
        "colab": {
          "base_uri": "https://localhost:8080/",
          "height": 734
        },
        "id": "OcZ0ZybP5SOC",
        "outputId": "7d0fd872-7483-4f11-dcae-a08c7bf5cde3"
      },
      "source": [
        "get_cnfs(traj_fun=lambda x: 2 + 0.5*np.sin(3*x), method_fun=simple_pseudo, pts=4)"
      ],
      "execution_count": null,
      "outputs": [
        {
          "output_type": "stream",
          "text": [
            "6.5 seconds : Total time using simple_pseudo \n"
          ],
          "name": "stdout"
        },
        {
          "output_type": "display_data",
          "data": {
            "text/html": [
              "<html>\n",
              "<head><meta charset=\"utf-8\" /></head>\n",
              "<body>\n",
              "    <div>\n",
              "            <script src=\"https://cdnjs.cloudflare.com/ajax/libs/mathjax/2.7.5/MathJax.js?config=TeX-AMS-MML_SVG\"></script><script type=\"text/javascript\">if (window.MathJax) {MathJax.Hub.Config({SVG: {font: \"STIX-Web\"}});}</script>\n",
              "                <script type=\"text/javascript\">window.PlotlyConfig = {MathJaxConfig: 'local'};</script>\n",
              "        <script src=\"https://cdn.plot.ly/plotly-latest.min.js\"></script>    \n",
              "            <div id=\"8339acd2-baf3-48ed-a229-e7d059eb851b\" class=\"plotly-graph-div\" style=\"height:700px; width:1000px;\"></div>\n",
              "            <script type=\"text/javascript\">\n",
              "                \n",
              "                    window.PLOTLYENV=window.PLOTLYENV || {};\n",
              "                    \n",
              "                if (document.getElementById(\"8339acd2-baf3-48ed-a229-e7d059eb851b\")) {\n",
              "                    Plotly.newPlot(\n",
              "                        '8339acd2-baf3-48ed-a229-e7d059eb851b',\n",
              "                        [{\"marker\": {\"size\": 0.1}, \"name\": \"desired trajectory\", \"type\": \"scatter3d\", \"x\": [-2.5, -2.3979591836734695, -2.295918367346939, -2.193877551020408, -2.0918367346938775, -1.989795918367347, -1.8877551020408163, -1.7857142857142856, -1.683673469387755, -1.5816326530612246, -1.4795918367346939, -1.3775510204081631, -1.2755102040816326, -1.1734693877551021, -1.0714285714285714, -0.9693877551020407, -0.8673469387755102, -0.7653061224489797, -0.6632653061224489, -0.5612244897959182, -0.4591836734693877, -0.3571428571428572, -0.25510204081632626, -0.15306122448979576, -0.05102040816326525, 0.05102040816326525, 0.15306122448979576, 0.2551020408163267, 0.3571428571428572, 0.4591836734693877, 0.5612244897959187, 0.6632653061224492, 0.7653061224489797, 0.8673469387755102, 0.9693877551020407, 1.0714285714285716, 1.1734693877551021, 1.2755102040816326, 1.3775510204081636, 1.479591836734694, 1.5816326530612246, 1.683673469387755, 1.7857142857142856, 1.887755102040816, 1.9897959183673475, 2.091836734693878, 2.1938775510204085, 2.295918367346939, 2.3979591836734695, 2.5], \"y\": [0.5, 0.5, 0.5, 0.5, 0.5, 0.5, 0.5, 0.5, 0.5, 0.5, 0.5, 0.5, 0.5, 0.5, 0.5, 0.5, 0.5, 0.5, 0.5, 0.5, 0.5, 0.5, 0.5, 0.5, 0.5, 0.5, 0.5, 0.5, 0.5, 0.5, 0.5, 0.5, 0.5, 0.5, 0.5, 0.5, 0.5, 0.5, 0.5, 0.5, 0.5, 0.5, 0.5, 0.5, 0.5, 0.5, 0.5, 0.5, 0.5, 0.5], \"z\": [1.5310000116126306, 1.6050357938973812, 1.7157959104957354, 1.85298172804365, 2.0038375138725137, 2.1543364821968805, 2.29048502463098, 2.399623855823368, 2.471605091835762, 2.4997358148422393, 2.4814003901594264, 2.418303671684029, 2.316312482149802, 2.1849101075953876, 2.036314527924221, 1.8843423717346668, 1.7431242265180236, 1.6257907565115859, 1.543251794839756, 1.5031819316945028, 1.5093069200106743, 1.5610572496526314, 1.6536211012776452, 1.7783917561504259, 1.923767861107126, 2.076232138892874, 2.221608243849574, 2.3463788987223553, 2.4389427503473686, 2.4906930799893257, 2.496818068305497, 2.456748205160244, 2.374209243488414, 2.256875773481976, 2.115657628265333, 1.9636854720757786, 1.8150898924046126, 1.6836875178501984, 1.5816963283159704, 1.5185996098405734, 1.5002641851577605, 1.528394908164238, 1.600376144176632, 1.70951497536902, 1.8456635178031204, 1.9961624861274871, 2.147018271956351, 2.284204089504265, 2.394964206102619, 2.4689999883873694]}, {\"line\": {\"width\": 5}, \"marker\": {\"color\": [0, 0.6, 1.4, 1, 0.5], \"colorscale\": [[0.0, \"#440154\"], [0.1111111111111111, \"#482878\"], [0.2222222222222222, \"#3e4989\"], [0.3333333333333333, \"#31688e\"], [0.4444444444444444, \"#26828e\"], [0.5555555555555556, \"#1f9e89\"], [0.6666666666666666, \"#35b779\"], [0.7777777777777778, \"#6ece58\"], [0.8888888888888888, \"#b5de2b\"], [1.0, \"#fde725\"]], \"size\": 5}, \"opacity\": 1, \"showlegend\": false, \"type\": \"scatter3d\", \"x\": [0, -0.950107930265392, -1.9471151216427183, -2.182685595155057, -2.499903870597835], \"y\": [0.5, 0.5, 0.5, 0.5, 0.5], \"z\": [0, -0.31192133759461393, -0.3892302008762267, 0.5826270684844407, 1.5309796219818783]}, {\"line\": {\"width\": 5}, \"marker\": {\"color\": [0, 0.6, 1.4, 1, 0.5], \"colorscale\": [[0.0, \"#440154\"], [0.1111111111111111, \"#482878\"], [0.2222222222222222, \"#3e4989\"], [0.3333333333333333, \"#31688e\"], [0.4444444444444444, \"#26828e\"], [0.5555555555555556, \"#1f9e89\"], [0.6666666666666666, \"#35b779\"], [0.7777777777777778, \"#6ece58\"], [0.8888888888888888, \"#b5de2b\"], [1.0, \"#fde725\"]], \"size\": 5}, \"opacity\": 0.5, \"showlegend\": false, \"type\": \"scatter3d\", \"x\": [0, -0.9997696333952846, -1.8627920301475362, -1.5831434439795926, -1.4795088606672786], \"y\": [0.5, 0.5, 0.5, 0.5, 0.5], \"z\": [0, 0.02146346059372377, 0.5266291192681823, 1.4867315451865166, 2.4813469850132286]}, {\"line\": {\"width\": 5}, \"marker\": {\"color\": [0, 0.6, 1.4, 1, 0.5], \"colorscale\": [[0.0, \"#440154\"], [0.1111111111111111, \"#482878\"], [0.2222222222222222, \"#3e4989\"], [0.3333333333333333, \"#31688e\"], [0.4444444444444444, \"#26828e\"], [0.5555555555555556, \"#1f9e89\"], [0.6666666666666666, \"#35b779\"], [0.7777777777777778, \"#6ece58\"], [0.8888888888888888, \"#b5de2b\"], [1.0, \"#fde725\"]], \"size\": 5}, \"opacity\": 0.5, \"showlegend\": false, \"type\": \"scatter3d\", \"x\": [0, -0.9642064786175886, -1.8887295022702653, -1.216471316684816, -0.45909348692894647], \"y\": [0.5, 0.5, 0.5, 0.5, 0.5], \"z\": [0, -0.2651525345756093, 0.11597366333803774, 0.8562904414225007, 1.5092673345774494]}, {\"line\": {\"width\": 5}, \"marker\": {\"color\": [0, 0.6, 1.4, 1, 0.5], \"colorscale\": [[0.0, \"#440154\"], [0.1111111111111111, \"#482878\"], [0.2222222222222222, \"#3e4989\"], [0.3333333333333333, \"#31688e\"], [0.4444444444444444, \"#26828e\"], [0.5555555555555556, \"#1f9e89\"], [0.6666666666666666, \"#35b779\"], [0.7777777777777778, \"#6ece58\"], [0.8888888888888888, \"#b5de2b\"], [1.0, \"#fde725\"]], \"size\": 5}, \"opacity\": 0.5, \"showlegend\": false, \"type\": \"scatter3d\", \"x\": [0, -0.8940557793433841, -1.1146255929261704, -0.22327114691414407, 0.561258096189335], \"y\": [0.5, 0.5, 0.5, 0.5, 0.5], \"z\": [0, 0.44795564894606926, 1.4233268384611455, 1.8766338553653559, 2.496725676562412]}, {\"line\": {\"width\": 5}, \"marker\": {\"color\": [0, 0.6, 1.4, 1, 0.5], \"colorscale\": [[0.0, \"#440154\"], [0.1111111111111111, \"#482878\"], [0.2222222222222222, \"#3e4989\"], [0.3333333333333333, \"#31688e\"], [0.4444444444444444, \"#26828e\"], [0.5555555555555556, \"#1f9e89\"], [0.6666666666666666, \"#35b779\"], [0.7777777777777778, \"#6ece58\"], [0.8888888888888888, \"#b5de2b\"], [1.0, \"#fde725\"]], \"size\": 5}, \"opacity\": 1, \"showlegend\": false, \"type\": \"scatter3d\", \"x\": [0, -0.7335474650689703, -0.40754844897120723, 0.5817992461972638, 1.5815841136788902], \"y\": [0.5, 0.5, 0.5, 0.5, 0.5], \"z\": [0, 0.6796382247128894, 1.6250083329262233, 1.4794365703318448, 1.5001782856598267]}],\n",
              "                        {\"colorscale\": {\"diverging\": [[0.0, \"rgb(3, 35, 51)\"], [0.09090909090909091, \"rgb(13, 48, 100)\"], [0.18181818181818182, \"rgb(53, 50, 155)\"], [0.2727272727272727, \"rgb(93, 62, 153)\"], [0.36363636363636365, \"rgb(126, 77, 143)\"], [0.45454545454545453, \"rgb(158, 89, 135)\"], [0.5454545454545454, \"rgb(193, 100, 121)\"], [0.6363636363636364, \"rgb(225, 113, 97)\"], [0.7272727272727273, \"rgb(246, 139, 69)\"], [0.8181818181818182, \"rgb(251, 173, 60)\"], [0.9090909090909091, \"rgb(246, 211, 70)\"], [1.0, \"rgb(231, 250, 90)\"]]}, \"height\": 700, \"scene\": {\"aspectratio\": {\"x\": 1, \"y\": 0.25, \"z\": 0.7}, \"camera\": {\"eye\": {\"x\": 0, \"y\": -1.25, \"z\": 0.1}}, \"xaxis\": {\"title\": {\"text\": \"Robot x-axis\"}}, \"yaxis\": {\"title\": {\"text\": \"Robot z-axis\"}}, \"zaxis\": {\"title\": {\"text\": \"Robot y-axis\"}}}, \"template\": {\"data\": {\"bar\": [{\"error_x\": {\"color\": \"#2a3f5f\"}, \"error_y\": {\"color\": \"#2a3f5f\"}, \"marker\": {\"line\": {\"color\": \"#E5ECF6\", \"width\": 0.5}}, \"type\": \"bar\"}], \"barpolar\": [{\"marker\": {\"line\": {\"color\": \"#E5ECF6\", \"width\": 0.5}}, \"type\": \"barpolar\"}], \"carpet\": [{\"aaxis\": {\"endlinecolor\": \"#2a3f5f\", \"gridcolor\": \"white\", \"linecolor\": \"white\", \"minorgridcolor\": \"white\", \"startlinecolor\": \"#2a3f5f\"}, \"baxis\": {\"endlinecolor\": \"#2a3f5f\", \"gridcolor\": \"white\", \"linecolor\": \"white\", \"minorgridcolor\": \"white\", \"startlinecolor\": \"#2a3f5f\"}, \"type\": \"carpet\"}], \"choropleth\": [{\"colorbar\": {\"outlinewidth\": 0, \"ticks\": \"\"}, \"type\": \"choropleth\"}], \"contour\": [{\"colorbar\": {\"outlinewidth\": 0, \"ticks\": \"\"}, \"colorscale\": [[0.0, \"#0d0887\"], [0.1111111111111111, \"#46039f\"], [0.2222222222222222, \"#7201a8\"], [0.3333333333333333, \"#9c179e\"], [0.4444444444444444, \"#bd3786\"], [0.5555555555555556, \"#d8576b\"], [0.6666666666666666, \"#ed7953\"], [0.7777777777777778, \"#fb9f3a\"], [0.8888888888888888, \"#fdca26\"], [1.0, \"#f0f921\"]], \"type\": \"contour\"}], \"contourcarpet\": [{\"colorbar\": {\"outlinewidth\": 0, \"ticks\": \"\"}, \"type\": \"contourcarpet\"}], \"heatmap\": [{\"colorbar\": {\"outlinewidth\": 0, \"ticks\": \"\"}, \"colorscale\": [[0.0, \"#0d0887\"], [0.1111111111111111, \"#46039f\"], [0.2222222222222222, \"#7201a8\"], [0.3333333333333333, \"#9c179e\"], [0.4444444444444444, \"#bd3786\"], [0.5555555555555556, \"#d8576b\"], [0.6666666666666666, \"#ed7953\"], [0.7777777777777778, \"#fb9f3a\"], [0.8888888888888888, \"#fdca26\"], [1.0, \"#f0f921\"]], \"type\": \"heatmap\"}], \"heatmapgl\": [{\"colorbar\": {\"outlinewidth\": 0, \"ticks\": \"\"}, \"colorscale\": [[0.0, \"#0d0887\"], [0.1111111111111111, \"#46039f\"], [0.2222222222222222, \"#7201a8\"], [0.3333333333333333, \"#9c179e\"], [0.4444444444444444, \"#bd3786\"], [0.5555555555555556, \"#d8576b\"], [0.6666666666666666, \"#ed7953\"], [0.7777777777777778, \"#fb9f3a\"], [0.8888888888888888, \"#fdca26\"], [1.0, \"#f0f921\"]], \"type\": \"heatmapgl\"}], \"histogram\": [{\"marker\": {\"colorbar\": {\"outlinewidth\": 0, \"ticks\": \"\"}}, \"type\": \"histogram\"}], \"histogram2d\": [{\"colorbar\": {\"outlinewidth\": 0, \"ticks\": \"\"}, \"colorscale\": [[0.0, \"#0d0887\"], [0.1111111111111111, \"#46039f\"], [0.2222222222222222, \"#7201a8\"], [0.3333333333333333, \"#9c179e\"], [0.4444444444444444, \"#bd3786\"], [0.5555555555555556, \"#d8576b\"], [0.6666666666666666, \"#ed7953\"], [0.7777777777777778, \"#fb9f3a\"], [0.8888888888888888, \"#fdca26\"], [1.0, \"#f0f921\"]], \"type\": \"histogram2d\"}], \"histogram2dcontour\": [{\"colorbar\": {\"outlinewidth\": 0, \"ticks\": \"\"}, \"colorscale\": [[0.0, \"#0d0887\"], [0.1111111111111111, \"#46039f\"], [0.2222222222222222, \"#7201a8\"], [0.3333333333333333, \"#9c179e\"], [0.4444444444444444, \"#bd3786\"], [0.5555555555555556, \"#d8576b\"], [0.6666666666666666, \"#ed7953\"], [0.7777777777777778, \"#fb9f3a\"], [0.8888888888888888, \"#fdca26\"], [1.0, \"#f0f921\"]], \"type\": \"histogram2dcontour\"}], \"mesh3d\": [{\"colorbar\": {\"outlinewidth\": 0, \"ticks\": \"\"}, \"type\": \"mesh3d\"}], \"parcoords\": [{\"line\": {\"colorbar\": {\"outlinewidth\": 0, \"ticks\": \"\"}}, \"type\": \"parcoords\"}], \"pie\": [{\"automargin\": true, \"type\": \"pie\"}], \"scatter\": [{\"marker\": {\"colorbar\": {\"outlinewidth\": 0, \"ticks\": \"\"}}, \"type\": \"scatter\"}], \"scatter3d\": [{\"line\": {\"colorbar\": {\"outlinewidth\": 0, \"ticks\": \"\"}}, \"marker\": {\"colorbar\": {\"outlinewidth\": 0, \"ticks\": \"\"}}, \"type\": \"scatter3d\"}], \"scattercarpet\": [{\"marker\": {\"colorbar\": {\"outlinewidth\": 0, \"ticks\": \"\"}}, \"type\": \"scattercarpet\"}], \"scattergeo\": [{\"marker\": {\"colorbar\": {\"outlinewidth\": 0, \"ticks\": \"\"}}, \"type\": \"scattergeo\"}], \"scattergl\": [{\"marker\": {\"colorbar\": {\"outlinewidth\": 0, \"ticks\": \"\"}}, \"type\": \"scattergl\"}], \"scattermapbox\": [{\"marker\": {\"colorbar\": {\"outlinewidth\": 0, \"ticks\": \"\"}}, \"type\": \"scattermapbox\"}], \"scatterpolar\": [{\"marker\": {\"colorbar\": {\"outlinewidth\": 0, \"ticks\": \"\"}}, \"type\": \"scatterpolar\"}], \"scatterpolargl\": [{\"marker\": {\"colorbar\": {\"outlinewidth\": 0, \"ticks\": \"\"}}, \"type\": \"scatterpolargl\"}], \"scatterternary\": [{\"marker\": {\"colorbar\": {\"outlinewidth\": 0, \"ticks\": \"\"}}, \"type\": \"scatterternary\"}], \"surface\": [{\"colorbar\": {\"outlinewidth\": 0, \"ticks\": \"\"}, \"colorscale\": [[0.0, \"#0d0887\"], [0.1111111111111111, \"#46039f\"], [0.2222222222222222, \"#7201a8\"], [0.3333333333333333, \"#9c179e\"], [0.4444444444444444, \"#bd3786\"], [0.5555555555555556, \"#d8576b\"], [0.6666666666666666, \"#ed7953\"], [0.7777777777777778, \"#fb9f3a\"], [0.8888888888888888, \"#fdca26\"], [1.0, \"#f0f921\"]], \"type\": \"surface\"}], \"table\": [{\"cells\": {\"fill\": {\"color\": \"#EBF0F8\"}, \"line\": {\"color\": \"white\"}}, \"header\": {\"fill\": {\"color\": \"#C8D4E3\"}, \"line\": {\"color\": \"white\"}}, \"type\": \"table\"}]}, \"layout\": {\"annotationdefaults\": {\"arrowcolor\": \"#2a3f5f\", \"arrowhead\": 0, \"arrowwidth\": 1}, \"coloraxis\": {\"colorbar\": {\"outlinewidth\": 0, \"ticks\": \"\"}}, \"colorscale\": {\"diverging\": [[0, \"#8e0152\"], [0.1, \"#c51b7d\"], [0.2, \"#de77ae\"], [0.3, \"#f1b6da\"], [0.4, \"#fde0ef\"], [0.5, \"#f7f7f7\"], [0.6, \"#e6f5d0\"], [0.7, \"#b8e186\"], [0.8, \"#7fbc41\"], [0.9, \"#4d9221\"], [1, \"#276419\"]], \"sequential\": [[0.0, \"#0d0887\"], [0.1111111111111111, \"#46039f\"], [0.2222222222222222, \"#7201a8\"], [0.3333333333333333, \"#9c179e\"], [0.4444444444444444, \"#bd3786\"], [0.5555555555555556, \"#d8576b\"], [0.6666666666666666, \"#ed7953\"], [0.7777777777777778, \"#fb9f3a\"], [0.8888888888888888, \"#fdca26\"], [1.0, \"#f0f921\"]], \"sequentialminus\": [[0.0, \"#0d0887\"], [0.1111111111111111, \"#46039f\"], [0.2222222222222222, \"#7201a8\"], [0.3333333333333333, \"#9c179e\"], [0.4444444444444444, \"#bd3786\"], [0.5555555555555556, \"#d8576b\"], [0.6666666666666666, \"#ed7953\"], [0.7777777777777778, \"#fb9f3a\"], [0.8888888888888888, \"#fdca26\"], [1.0, \"#f0f921\"]]}, \"colorway\": [\"#636efa\", \"#EF553B\", \"#00cc96\", \"#ab63fa\", \"#FFA15A\", \"#19d3f3\", \"#FF6692\", \"#B6E880\", \"#FF97FF\", \"#FECB52\"], \"font\": {\"color\": \"#2a3f5f\"}, \"geo\": {\"bgcolor\": \"white\", \"lakecolor\": \"white\", \"landcolor\": \"#E5ECF6\", \"showlakes\": true, \"showland\": true, \"subunitcolor\": \"white\"}, \"hoverlabel\": {\"align\": \"left\"}, \"hovermode\": \"closest\", \"mapbox\": {\"style\": \"light\"}, \"paper_bgcolor\": \"white\", \"plot_bgcolor\": \"#E5ECF6\", \"polar\": {\"angularaxis\": {\"gridcolor\": \"white\", \"linecolor\": \"white\", \"ticks\": \"\"}, \"bgcolor\": \"#E5ECF6\", \"radialaxis\": {\"gridcolor\": \"white\", \"linecolor\": \"white\", \"ticks\": \"\"}}, \"scene\": {\"xaxis\": {\"backgroundcolor\": \"#E5ECF6\", \"gridcolor\": \"white\", \"gridwidth\": 2, \"linecolor\": \"white\", \"showbackground\": true, \"ticks\": \"\", \"zerolinecolor\": \"white\"}, \"yaxis\": {\"backgroundcolor\": \"#E5ECF6\", \"gridcolor\": \"white\", \"gridwidth\": 2, \"linecolor\": \"white\", \"showbackground\": true, \"ticks\": \"\", \"zerolinecolor\": \"white\"}, \"zaxis\": {\"backgroundcolor\": \"#E5ECF6\", \"gridcolor\": \"white\", \"gridwidth\": 2, \"linecolor\": \"white\", \"showbackground\": true, \"ticks\": \"\", \"zerolinecolor\": \"white\"}}, \"shapedefaults\": {\"line\": {\"color\": \"#2a3f5f\"}}, \"ternary\": {\"aaxis\": {\"gridcolor\": \"white\", \"linecolor\": \"white\", \"ticks\": \"\"}, \"baxis\": {\"gridcolor\": \"white\", \"linecolor\": \"white\", \"ticks\": \"\"}, \"bgcolor\": \"#E5ECF6\", \"caxis\": {\"gridcolor\": \"white\", \"linecolor\": \"white\", \"ticks\": \"\"}}, \"title\": {\"x\": 0.05}, \"xaxis\": {\"automargin\": true, \"gridcolor\": \"white\", \"linecolor\": \"white\", \"ticks\": \"\", \"title\": {\"standoff\": 15}, \"zerolinecolor\": \"white\", \"zerolinewidth\": 2}, \"yaxis\": {\"automargin\": true, \"gridcolor\": \"white\", \"linecolor\": \"white\", \"ticks\": \"\", \"title\": {\"standoff\": 15}, \"zerolinecolor\": \"white\", \"zerolinewidth\": 2}}}, \"title\": {\"text\": \"Robot in joint Configurations\"}, \"width\": 1000},\n",
              "                        {\"responsive\": true}\n",
              "                    ).then(function(){\n",
              "                            \n",
              "var gd = document.getElementById('8339acd2-baf3-48ed-a229-e7d059eb851b');\n",
              "var x = new MutationObserver(function (mutations, observer) {{\n",
              "        var display = window.getComputedStyle(gd).display;\n",
              "        if (!display || display === 'none') {{\n",
              "            console.log([gd, 'removed!']);\n",
              "            Plotly.purge(gd);\n",
              "            observer.disconnect();\n",
              "        }}\n",
              "}});\n",
              "\n",
              "// Listen for the removal of the full notebook cells\n",
              "var notebookContainer = gd.closest('#notebook-container');\n",
              "if (notebookContainer) {{\n",
              "    x.observe(notebookContainer, {childList: true});\n",
              "}}\n",
              "\n",
              "// Listen for the clearing of the current output cell\n",
              "var outputEl = gd.closest('.output');\n",
              "if (outputEl) {{\n",
              "    x.observe(outputEl, {childList: true});\n",
              "}}\n",
              "\n",
              "                        })\n",
              "                };\n",
              "                \n",
              "            </script>\n",
              "        </div>\n",
              "</body>\n",
              "</html>"
            ]
          },
          "metadata": {
            "tags": []
          }
        }
      ]
    },
    {
      "cell_type": "markdown",
      "metadata": {
        "id": "uZAElki4u2tx"
      },
      "source": [
        "##### Weighted Pseudo Inverse"
      ]
    },
    {
      "cell_type": "code",
      "metadata": {
        "id": "BKxhgTxovCx7"
      },
      "source": [
        "def weighted_pseudo(q0, p_goal, weights=[1,1,1,1], time_step=0.01, max_iteration=3000, accuracy=0.0001):\r\n",
        "\r\n",
        "  assert (p_goal[-1] == 0), \"Forward Kinematics cannot set z position\"\r\n",
        "\r\n",
        "  q_n0 = q0\r\n",
        "  p = FK(q_n0)[:3,-1]\r\n",
        "  t_dot = p_goal - p\r\n",
        "  e = np.linalg.norm(t_dot)\r\n",
        "\r\n",
        "  Tt = np.block([ np.eye(3), np.zeros((3,3)) ])\r\n",
        "  accuracy\r\n",
        "  q_n1 = q_n0\r\n",
        "  δt = time_step\r\n",
        "  i=0\r\n",
        "\r\n",
        "  start_time = time.time()\r\n",
        "  while True:\r\n",
        "    if (e < accuracy): \r\n",
        "      print(f\"Accuracy of {accuracy} reached\")\r\n",
        "      break\r\n",
        "\r\n",
        "    p = FK(q_n0)[:3,-1]\r\n",
        "    t_dot = p_goal - p\r\n",
        "    e = np.linalg.norm(t_dot)\r\n",
        "\r\n",
        "    W_inv = np.linalg.inv(np.diag(weights)) \r\n",
        "\r\n",
        "    Jt = np.dot(Tt, jacobian(q_n0))\r\n",
        "\r\n",
        "    Winv = np.diag([1,1,1,1])\r\n",
        "    print(Jt)\r\n",
        "    print(np.linalg.multi_dot([ Jt, W_inv, Jt.transpose() ]))\r\n",
        "    J_inv = np.linalg.multi_dot([ \r\n",
        "                W_inv, \r\n",
        "                Jt.transpose(), \r\n",
        "                np.linalg.inv(np.linalg.multi_dot([ Jt, W_inv, Jt.transpose() ]))\r\n",
        "    ])   \r\n",
        "\r\n",
        "    q_dot = np.linalg.multi_dot([J_inv, t_dot])\r\n",
        "\r\n",
        "    q_n1 = q_n0 + (δt * q_dot)  \r\n",
        "\r\n",
        "    q_n0 = q_n1\r\n",
        "\r\n",
        "    i+=1\r\n",
        "    if (i > max_iteration):\r\n",
        "      print(\"No convergence\")\r\n",
        "      break\r\n",
        "    \r\n",
        "  end_time = time.time()\r\n",
        "  print(f\"Total time taken {np.round(end_time - start_time, 4)} seconds\")\r\n",
        "\r\n",
        "  return np.mod(q_n1, 2*np.pi)"
      ],
      "execution_count": null,
      "outputs": []
    },
    {
      "cell_type": "code",
      "metadata": {
        "colab": {
          "base_uri": "https://localhost:8080/",
          "height": 436
        },
        "id": "VETaVBPLzkYM",
        "outputId": "2c34ed51-65fc-495b-8675-57dd0ec2c7c8"
      },
      "source": [
        "get_cnfs(traj_fun=lambda x: 2 + 0.5*np.sin(3*x), method_fun=weighted_pseudo, pts=4, kwargs=dict(weights=[10,500,15,100]))"
      ],
      "execution_count": null,
      "outputs": [
        {
          "output_type": "stream",
          "text": [
            "[[ 0.8008  0.3008 -0.684  -0.342 ]\n",
            " [-1.187  -2.053  -1.8794 -0.9397]\n",
            " [ 0.      0.      0.      0.    ]]\n",
            "[[ 0.0967 -0.0074  0.    ]\n",
            " [-0.0074  0.3936  0.    ]\n",
            " [ 0.      0.      0.    ]]\n"
          ],
          "name": "stdout"
        },
        {
          "output_type": "error",
          "ename": "LinAlgError",
          "evalue": "ignored",
          "traceback": [
            "\u001b[0;31m---------------------------------------------------------------------------\u001b[0m",
            "\u001b[0;31mLinAlgError\u001b[0m                               Traceback (most recent call last)",
            "\u001b[0;32m<ipython-input-37-a2f676c0c72f>\u001b[0m in \u001b[0;36m<module>\u001b[0;34m()\u001b[0m\n\u001b[0;32m----> 1\u001b[0;31m \u001b[0mget_cnfs\u001b[0m\u001b[0;34m(\u001b[0m\u001b[0mtraj_fun\u001b[0m\u001b[0;34m=\u001b[0m\u001b[0;32mlambda\u001b[0m \u001b[0mx\u001b[0m\u001b[0;34m:\u001b[0m \u001b[0;36m2\u001b[0m \u001b[0;34m+\u001b[0m \u001b[0;36m0.5\u001b[0m\u001b[0;34m*\u001b[0m\u001b[0mnp\u001b[0m\u001b[0;34m.\u001b[0m\u001b[0msin\u001b[0m\u001b[0;34m(\u001b[0m\u001b[0;36m3\u001b[0m\u001b[0;34m*\u001b[0m\u001b[0mx\u001b[0m\u001b[0;34m)\u001b[0m\u001b[0;34m,\u001b[0m \u001b[0mmethod_fun\u001b[0m\u001b[0;34m=\u001b[0m\u001b[0mweighted_pseudo\u001b[0m\u001b[0;34m,\u001b[0m \u001b[0mpts\u001b[0m\u001b[0;34m=\u001b[0m\u001b[0;36m4\u001b[0m\u001b[0;34m,\u001b[0m \u001b[0mkwargs\u001b[0m\u001b[0;34m=\u001b[0m\u001b[0mdict\u001b[0m\u001b[0;34m(\u001b[0m\u001b[0mweights\u001b[0m\u001b[0;34m=\u001b[0m\u001b[0;34m[\u001b[0m\u001b[0;36m10\u001b[0m\u001b[0;34m,\u001b[0m\u001b[0;36m500\u001b[0m\u001b[0;34m,\u001b[0m\u001b[0;36m15\u001b[0m\u001b[0;34m,\u001b[0m\u001b[0;36m100\u001b[0m\u001b[0;34m]\u001b[0m\u001b[0;34m)\u001b[0m\u001b[0;34m)\u001b[0m\u001b[0;34m\u001b[0m\u001b[0;34m\u001b[0m\u001b[0m\n\u001b[0m",
            "\u001b[0;32m<ipython-input-20-b12acdc1fe5a>\u001b[0m in \u001b[0;36mget_cnfs\u001b[0;34m(traj_fun, method_fun, pts, q0, kwargs)\u001b[0m\n\u001b[1;32m     19\u001b[0m     \u001b[0mpos\u001b[0m \u001b[0;34m=\u001b[0m \u001b[0;34m[\u001b[0m \u001b[0mtraj_x\u001b[0m\u001b[0;34m[\u001b[0m\u001b[0midx\u001b[0m\u001b[0;34m]\u001b[0m\u001b[0;34m,\u001b[0m \u001b[0mtraj_y\u001b[0m\u001b[0;34m[\u001b[0m\u001b[0midx\u001b[0m\u001b[0;34m]\u001b[0m\u001b[0;34m,\u001b[0m \u001b[0;36m0\u001b[0m \u001b[0;34m]\u001b[0m\u001b[0;34m\u001b[0m\u001b[0;34m\u001b[0m\u001b[0m\n\u001b[1;32m     20\u001b[0m \u001b[0;34m\u001b[0m\u001b[0m\n\u001b[0;32m---> 21\u001b[0;31m     \u001b[0mq\u001b[0m \u001b[0;34m=\u001b[0m \u001b[0mmethod_fun\u001b[0m\u001b[0;34m(\u001b[0m\u001b[0mq0\u001b[0m\u001b[0;34m,\u001b[0m \u001b[0mpos\u001b[0m\u001b[0;34m,\u001b[0m \u001b[0;34m**\u001b[0m\u001b[0mkwargs\u001b[0m\u001b[0;34m)\u001b[0m\u001b[0;34m\u001b[0m\u001b[0;34m\u001b[0m\u001b[0m\n\u001b[0m\u001b[1;32m     22\u001b[0m \u001b[0;34m\u001b[0m\u001b[0m\n\u001b[1;32m     23\u001b[0m     \u001b[0mrob_cnfs\u001b[0m\u001b[0;34m.\u001b[0m\u001b[0mappend\u001b[0m\u001b[0;34m(\u001b[0m\u001b[0mq\u001b[0m\u001b[0;34m)\u001b[0m\u001b[0;34m\u001b[0m\u001b[0;34m\u001b[0m\u001b[0m\n",
            "\u001b[0;32m<ipython-input-36-1714daf5c9ec>\u001b[0m in \u001b[0;36mweighted_pseudo\u001b[0;34m(q0, p_goal, weights, time_step, max_iteration, accuracy)\u001b[0m\n\u001b[1;32m     34\u001b[0m                 \u001b[0mW_inv\u001b[0m\u001b[0;34m,\u001b[0m\u001b[0;34m\u001b[0m\u001b[0;34m\u001b[0m\u001b[0m\n\u001b[1;32m     35\u001b[0m                 \u001b[0mJt\u001b[0m\u001b[0;34m.\u001b[0m\u001b[0mtranspose\u001b[0m\u001b[0;34m(\u001b[0m\u001b[0;34m)\u001b[0m\u001b[0;34m,\u001b[0m\u001b[0;34m\u001b[0m\u001b[0;34m\u001b[0m\u001b[0m\n\u001b[0;32m---> 36\u001b[0;31m                 \u001b[0mnp\u001b[0m\u001b[0;34m.\u001b[0m\u001b[0mlinalg\u001b[0m\u001b[0;34m.\u001b[0m\u001b[0minv\u001b[0m\u001b[0;34m(\u001b[0m\u001b[0mnp\u001b[0m\u001b[0;34m.\u001b[0m\u001b[0mlinalg\u001b[0m\u001b[0;34m.\u001b[0m\u001b[0mmulti_dot\u001b[0m\u001b[0;34m(\u001b[0m\u001b[0;34m[\u001b[0m \u001b[0mJt\u001b[0m\u001b[0;34m,\u001b[0m \u001b[0mW_inv\u001b[0m\u001b[0;34m,\u001b[0m \u001b[0mJt\u001b[0m\u001b[0;34m.\u001b[0m\u001b[0mtranspose\u001b[0m\u001b[0;34m(\u001b[0m\u001b[0;34m)\u001b[0m \u001b[0;34m]\u001b[0m\u001b[0;34m)\u001b[0m\u001b[0;34m)\u001b[0m\u001b[0;34m\u001b[0m\u001b[0;34m\u001b[0m\u001b[0m\n\u001b[0m\u001b[1;32m     37\u001b[0m     ])   \n\u001b[1;32m     38\u001b[0m \u001b[0;34m\u001b[0m\u001b[0m\n",
            "\u001b[0;32m<__array_function__ internals>\u001b[0m in \u001b[0;36minv\u001b[0;34m(*args, **kwargs)\u001b[0m\n",
            "\u001b[0;32m/usr/local/lib/python3.6/dist-packages/numpy/linalg/linalg.py\u001b[0m in \u001b[0;36minv\u001b[0;34m(a)\u001b[0m\n\u001b[1;32m    544\u001b[0m     \u001b[0msignature\u001b[0m \u001b[0;34m=\u001b[0m \u001b[0;34m'D->D'\u001b[0m \u001b[0;32mif\u001b[0m \u001b[0misComplexType\u001b[0m\u001b[0;34m(\u001b[0m\u001b[0mt\u001b[0m\u001b[0;34m)\u001b[0m \u001b[0;32melse\u001b[0m \u001b[0;34m'd->d'\u001b[0m\u001b[0;34m\u001b[0m\u001b[0;34m\u001b[0m\u001b[0m\n\u001b[1;32m    545\u001b[0m     \u001b[0mextobj\u001b[0m \u001b[0;34m=\u001b[0m \u001b[0mget_linalg_error_extobj\u001b[0m\u001b[0;34m(\u001b[0m\u001b[0m_raise_linalgerror_singular\u001b[0m\u001b[0;34m)\u001b[0m\u001b[0;34m\u001b[0m\u001b[0;34m\u001b[0m\u001b[0m\n\u001b[0;32m--> 546\u001b[0;31m     \u001b[0mainv\u001b[0m \u001b[0;34m=\u001b[0m \u001b[0m_umath_linalg\u001b[0m\u001b[0;34m.\u001b[0m\u001b[0minv\u001b[0m\u001b[0;34m(\u001b[0m\u001b[0ma\u001b[0m\u001b[0;34m,\u001b[0m \u001b[0msignature\u001b[0m\u001b[0;34m=\u001b[0m\u001b[0msignature\u001b[0m\u001b[0;34m,\u001b[0m \u001b[0mextobj\u001b[0m\u001b[0;34m=\u001b[0m\u001b[0mextobj\u001b[0m\u001b[0;34m)\u001b[0m\u001b[0;34m\u001b[0m\u001b[0;34m\u001b[0m\u001b[0m\n\u001b[0m\u001b[1;32m    547\u001b[0m     \u001b[0;32mreturn\u001b[0m \u001b[0mwrap\u001b[0m\u001b[0;34m(\u001b[0m\u001b[0mainv\u001b[0m\u001b[0;34m.\u001b[0m\u001b[0mastype\u001b[0m\u001b[0;34m(\u001b[0m\u001b[0mresult_t\u001b[0m\u001b[0;34m,\u001b[0m \u001b[0mcopy\u001b[0m\u001b[0;34m=\u001b[0m\u001b[0;32mFalse\u001b[0m\u001b[0;34m)\u001b[0m\u001b[0;34m)\u001b[0m\u001b[0;34m\u001b[0m\u001b[0;34m\u001b[0m\u001b[0m\n\u001b[1;32m    548\u001b[0m \u001b[0;34m\u001b[0m\u001b[0m\n",
            "\u001b[0;32m/usr/local/lib/python3.6/dist-packages/numpy/linalg/linalg.py\u001b[0m in \u001b[0;36m_raise_linalgerror_singular\u001b[0;34m(err, flag)\u001b[0m\n\u001b[1;32m     86\u001b[0m \u001b[0;34m\u001b[0m\u001b[0m\n\u001b[1;32m     87\u001b[0m \u001b[0;32mdef\u001b[0m \u001b[0m_raise_linalgerror_singular\u001b[0m\u001b[0;34m(\u001b[0m\u001b[0merr\u001b[0m\u001b[0;34m,\u001b[0m \u001b[0mflag\u001b[0m\u001b[0;34m)\u001b[0m\u001b[0;34m:\u001b[0m\u001b[0;34m\u001b[0m\u001b[0;34m\u001b[0m\u001b[0m\n\u001b[0;32m---> 88\u001b[0;31m     \u001b[0;32mraise\u001b[0m \u001b[0mLinAlgError\u001b[0m\u001b[0;34m(\u001b[0m\u001b[0;34m\"Singular matrix\"\u001b[0m\u001b[0;34m)\u001b[0m\u001b[0;34m\u001b[0m\u001b[0;34m\u001b[0m\u001b[0m\n\u001b[0m\u001b[1;32m     89\u001b[0m \u001b[0;34m\u001b[0m\u001b[0m\n\u001b[1;32m     90\u001b[0m \u001b[0;32mdef\u001b[0m \u001b[0m_raise_linalgerror_nonposdef\u001b[0m\u001b[0;34m(\u001b[0m\u001b[0merr\u001b[0m\u001b[0;34m,\u001b[0m \u001b[0mflag\u001b[0m\u001b[0;34m)\u001b[0m\u001b[0;34m:\u001b[0m\u001b[0;34m\u001b[0m\u001b[0;34m\u001b[0m\u001b[0m\n",
            "\u001b[0;31mLinAlgError\u001b[0m: Singular matrix"
          ]
        }
      ]
    },
    {
      "cell_type": "code",
      "metadata": {
        "colab": {
          "base_uri": "https://localhost:8080/",
          "height": 750
        },
        "id": "0pDMXr8l7A1R",
        "outputId": "b58faf2a-17eb-4545-a629-111c51a1c356"
      },
      "source": [
        "get_cnfs(traj_fun=lambda x: 2 + 0.5*np.sin(3*x), method_fun=weighted_pseudo, pts=4, kwargs=dict(weights=[0.5,0.5,0.5,0.5]))"
      ],
      "execution_count": null,
      "outputs": [
        {
          "output_type": "stream",
          "text": [
            "13.2 seconds : Total time using weighted_pseudo \n",
            "Parameters used: {'weights': [0.5, 0.5, 0.5, 0.5]}\n"
          ],
          "name": "stdout"
        },
        {
          "output_type": "display_data",
          "data": {
            "text/html": [
              "<html>\n",
              "<head><meta charset=\"utf-8\" /></head>\n",
              "<body>\n",
              "    <div>\n",
              "            <script src=\"https://cdnjs.cloudflare.com/ajax/libs/mathjax/2.7.5/MathJax.js?config=TeX-AMS-MML_SVG\"></script><script type=\"text/javascript\">if (window.MathJax) {MathJax.Hub.Config({SVG: {font: \"STIX-Web\"}});}</script>\n",
              "                <script type=\"text/javascript\">window.PlotlyConfig = {MathJaxConfig: 'local'};</script>\n",
              "        <script src=\"https://cdn.plot.ly/plotly-latest.min.js\"></script>    \n",
              "            <div id=\"328099e0-86c2-4696-a9ea-41f253b07282\" class=\"plotly-graph-div\" style=\"height:700px; width:1000px;\"></div>\n",
              "            <script type=\"text/javascript\">\n",
              "                \n",
              "                    window.PLOTLYENV=window.PLOTLYENV || {};\n",
              "                    \n",
              "                if (document.getElementById(\"328099e0-86c2-4696-a9ea-41f253b07282\")) {\n",
              "                    Plotly.newPlot(\n",
              "                        '328099e0-86c2-4696-a9ea-41f253b07282',\n",
              "                        [{\"marker\": {\"size\": 0.1}, \"name\": \"desired trajectory\", \"type\": \"scatter3d\", \"x\": [-2.5, -2.3979591836734695, -2.295918367346939, -2.193877551020408, -2.0918367346938775, -1.989795918367347, -1.8877551020408163, -1.7857142857142856, -1.683673469387755, -1.5816326530612246, -1.4795918367346939, -1.3775510204081631, -1.2755102040816326, -1.1734693877551021, -1.0714285714285714, -0.9693877551020407, -0.8673469387755102, -0.7653061224489797, -0.6632653061224489, -0.5612244897959182, -0.4591836734693877, -0.3571428571428572, -0.25510204081632626, -0.15306122448979576, -0.05102040816326525, 0.05102040816326525, 0.15306122448979576, 0.2551020408163267, 0.3571428571428572, 0.4591836734693877, 0.5612244897959187, 0.6632653061224492, 0.7653061224489797, 0.8673469387755102, 0.9693877551020407, 1.0714285714285716, 1.1734693877551021, 1.2755102040816326, 1.3775510204081636, 1.479591836734694, 1.5816326530612246, 1.683673469387755, 1.7857142857142856, 1.887755102040816, 1.9897959183673475, 2.091836734693878, 2.1938775510204085, 2.295918367346939, 2.3979591836734695, 2.5], \"y\": [0.5, 0.5, 0.5, 0.5, 0.5, 0.5, 0.5, 0.5, 0.5, 0.5, 0.5, 0.5, 0.5, 0.5, 0.5, 0.5, 0.5, 0.5, 0.5, 0.5, 0.5, 0.5, 0.5, 0.5, 0.5, 0.5, 0.5, 0.5, 0.5, 0.5, 0.5, 0.5, 0.5, 0.5, 0.5, 0.5, 0.5, 0.5, 0.5, 0.5, 0.5, 0.5, 0.5, 0.5, 0.5, 0.5, 0.5, 0.5, 0.5, 0.5], \"z\": [1.5310000116126306, 1.6050357938973812, 1.7157959104957354, 1.85298172804365, 2.0038375138725137, 2.1543364821968805, 2.29048502463098, 2.399623855823368, 2.471605091835762, 2.4997358148422393, 2.4814003901594264, 2.418303671684029, 2.316312482149802, 2.1849101075953876, 2.036314527924221, 1.8843423717346668, 1.7431242265180236, 1.6257907565115859, 1.543251794839756, 1.5031819316945028, 1.5093069200106743, 1.5610572496526314, 1.6536211012776452, 1.7783917561504259, 1.923767861107126, 2.076232138892874, 2.221608243849574, 2.3463788987223553, 2.4389427503473686, 2.4906930799893257, 2.496818068305497, 2.456748205160244, 2.374209243488414, 2.256875773481976, 2.115657628265333, 1.9636854720757786, 1.8150898924046126, 1.6836875178501984, 1.5816963283159704, 1.5185996098405734, 1.5002641851577605, 1.528394908164238, 1.600376144176632, 1.70951497536902, 1.8456635178031204, 1.9961624861274871, 2.147018271956351, 2.284204089504265, 2.394964206102619, 2.4689999883873694]}, {\"line\": {\"width\": 5}, \"marker\": {\"color\": [0, 0.6, 1.4, 1, 0.5], \"colorscale\": [[0.0, \"#440154\"], [0.1111111111111111, \"#482878\"], [0.2222222222222222, \"#3e4989\"], [0.3333333333333333, \"#31688e\"], [0.4444444444444444, \"#26828e\"], [0.5555555555555556, \"#1f9e89\"], [0.6666666666666666, \"#35b779\"], [0.7777777777777778, \"#6ece58\"], [0.8888888888888888, \"#b5de2b\"], [1.0, \"#fde725\"]], \"size\": 5}, \"opacity\": 1, \"showlegend\": false, \"type\": \"scatter3d\", \"x\": [0, -0.9501079302653922, -1.9471151216427187, -2.182685595155056, -2.499903870597834], \"y\": [0.5, 0.5, 0.5, 0.5, 0.5], \"z\": [0, -0.31192133759461305, -0.3892302008762252, 0.5826270684844423, 1.5309796219818799]}, {\"line\": {\"width\": 5}, \"marker\": {\"color\": [0, 0.6, 1.4, 1, 0.5], \"colorscale\": [[0.0, \"#440154\"], [0.1111111111111111, \"#482878\"], [0.2222222222222222, \"#3e4989\"], [0.3333333333333333, \"#31688e\"], [0.4444444444444444, \"#26828e\"], [0.5555555555555556, \"#1f9e89\"], [0.6666666666666666, \"#35b779\"], [0.7777777777777778, \"#6ece58\"], [0.8888888888888888, \"#b5de2b\"], [1.0, \"#fde725\"]], \"size\": 5}, \"opacity\": 0.5, \"showlegend\": false, \"type\": \"scatter3d\", \"x\": [0, -0.9997696333952846, -1.8627920301475362, -1.5831434439795926, -1.4795088606672786], \"y\": [0.5, 0.5, 0.5, 0.5, 0.5], \"z\": [0, 0.02146346059372377, 0.5266291192681823, 1.4867315451865166, 2.4813469850132286]}, {\"line\": {\"width\": 5}, \"marker\": {\"color\": [0, 0.6, 1.4, 1, 0.5], \"colorscale\": [[0.0, \"#440154\"], [0.1111111111111111, \"#482878\"], [0.2222222222222222, \"#3e4989\"], [0.3333333333333333, \"#31688e\"], [0.4444444444444444, \"#26828e\"], [0.5555555555555556, \"#1f9e89\"], [0.6666666666666666, \"#35b779\"], [0.7777777777777778, \"#6ece58\"], [0.8888888888888888, \"#b5de2b\"], [1.0, \"#fde725\"]], \"size\": 5}, \"opacity\": 0.5, \"showlegend\": false, \"type\": \"scatter3d\", \"x\": [0, -0.9642064786175886, -1.888729502270265, -1.216471316684816, -0.4590934869289461], \"y\": [0.5, 0.5, 0.5, 0.5, 0.5], \"z\": [0, -0.2651525345756093, 0.1159736633380379, 0.8562904414225008, 1.5092673345774492]}, {\"line\": {\"width\": 5}, \"marker\": {\"color\": [0, 0.6, 1.4, 1, 0.5], \"colorscale\": [[0.0, \"#440154\"], [0.1111111111111111, \"#482878\"], [0.2222222222222222, \"#3e4989\"], [0.3333333333333333, \"#31688e\"], [0.4444444444444444, \"#26828e\"], [0.5555555555555556, \"#1f9e89\"], [0.6666666666666666, \"#35b779\"], [0.7777777777777778, \"#6ece58\"], [0.8888888888888888, \"#b5de2b\"], [1.0, \"#fde725\"]], \"size\": 5}, \"opacity\": 0.5, \"showlegend\": false, \"type\": \"scatter3d\", \"x\": [0, -0.8940557793433841, -1.1146255929261704, -0.22327114691414407, 0.561258096189335], \"y\": [0.5, 0.5, 0.5, 0.5, 0.5], \"z\": [0, 0.44795564894606926, 1.4233268384611455, 1.8766338553653559, 2.496725676562412]}, {\"line\": {\"width\": 5}, \"marker\": {\"color\": [0, 0.6, 1.4, 1, 0.5], \"colorscale\": [[0.0, \"#440154\"], [0.1111111111111111, \"#482878\"], [0.2222222222222222, \"#3e4989\"], [0.3333333333333333, \"#31688e\"], [0.4444444444444444, \"#26828e\"], [0.5555555555555556, \"#1f9e89\"], [0.6666666666666666, \"#35b779\"], [0.7777777777777778, \"#6ece58\"], [0.8888888888888888, \"#b5de2b\"], [1.0, \"#fde725\"]], \"size\": 5}, \"opacity\": 1, \"showlegend\": false, \"type\": \"scatter3d\", \"x\": [0, -0.7335474650689703, -0.40754844897120723, 0.5817992461972638, 1.5815841136788902], \"y\": [0.5, 0.5, 0.5, 0.5, 0.5], \"z\": [0, 0.6796382247128894, 1.6250083329262233, 1.4794365703318448, 1.5001782856598267]}],\n",
              "                        {\"colorscale\": {\"diverging\": [[0.0, \"rgb(3, 35, 51)\"], [0.09090909090909091, \"rgb(13, 48, 100)\"], [0.18181818181818182, \"rgb(53, 50, 155)\"], [0.2727272727272727, \"rgb(93, 62, 153)\"], [0.36363636363636365, \"rgb(126, 77, 143)\"], [0.45454545454545453, \"rgb(158, 89, 135)\"], [0.5454545454545454, \"rgb(193, 100, 121)\"], [0.6363636363636364, \"rgb(225, 113, 97)\"], [0.7272727272727273, \"rgb(246, 139, 69)\"], [0.8181818181818182, \"rgb(251, 173, 60)\"], [0.9090909090909091, \"rgb(246, 211, 70)\"], [1.0, \"rgb(231, 250, 90)\"]]}, \"height\": 700, \"scene\": {\"aspectratio\": {\"x\": 1, \"y\": 0.25, \"z\": 0.7}, \"camera\": {\"eye\": {\"x\": 0, \"y\": -1.25, \"z\": 0.1}}, \"xaxis\": {\"title\": {\"text\": \"Robot x-axis\"}}, \"yaxis\": {\"title\": {\"text\": \"Robot z-axis\"}}, \"zaxis\": {\"title\": {\"text\": \"Robot y-axis\"}}}, \"template\": {\"data\": {\"bar\": [{\"error_x\": {\"color\": \"#2a3f5f\"}, \"error_y\": {\"color\": \"#2a3f5f\"}, \"marker\": {\"line\": {\"color\": \"#E5ECF6\", \"width\": 0.5}}, \"type\": \"bar\"}], \"barpolar\": [{\"marker\": {\"line\": {\"color\": \"#E5ECF6\", \"width\": 0.5}}, \"type\": \"barpolar\"}], \"carpet\": [{\"aaxis\": {\"endlinecolor\": \"#2a3f5f\", \"gridcolor\": \"white\", \"linecolor\": \"white\", \"minorgridcolor\": \"white\", \"startlinecolor\": \"#2a3f5f\"}, \"baxis\": {\"endlinecolor\": \"#2a3f5f\", \"gridcolor\": \"white\", \"linecolor\": \"white\", \"minorgridcolor\": \"white\", \"startlinecolor\": \"#2a3f5f\"}, \"type\": \"carpet\"}], \"choropleth\": [{\"colorbar\": {\"outlinewidth\": 0, \"ticks\": \"\"}, \"type\": \"choropleth\"}], \"contour\": [{\"colorbar\": {\"outlinewidth\": 0, \"ticks\": \"\"}, \"colorscale\": [[0.0, \"#0d0887\"], [0.1111111111111111, \"#46039f\"], [0.2222222222222222, \"#7201a8\"], [0.3333333333333333, \"#9c179e\"], [0.4444444444444444, \"#bd3786\"], [0.5555555555555556, \"#d8576b\"], [0.6666666666666666, \"#ed7953\"], [0.7777777777777778, \"#fb9f3a\"], [0.8888888888888888, \"#fdca26\"], [1.0, \"#f0f921\"]], \"type\": \"contour\"}], \"contourcarpet\": [{\"colorbar\": {\"outlinewidth\": 0, \"ticks\": \"\"}, \"type\": \"contourcarpet\"}], \"heatmap\": [{\"colorbar\": {\"outlinewidth\": 0, \"ticks\": \"\"}, \"colorscale\": [[0.0, \"#0d0887\"], [0.1111111111111111, \"#46039f\"], [0.2222222222222222, \"#7201a8\"], [0.3333333333333333, \"#9c179e\"], [0.4444444444444444, \"#bd3786\"], [0.5555555555555556, \"#d8576b\"], [0.6666666666666666, \"#ed7953\"], [0.7777777777777778, \"#fb9f3a\"], [0.8888888888888888, \"#fdca26\"], [1.0, \"#f0f921\"]], \"type\": \"heatmap\"}], \"heatmapgl\": [{\"colorbar\": {\"outlinewidth\": 0, \"ticks\": \"\"}, \"colorscale\": [[0.0, \"#0d0887\"], [0.1111111111111111, \"#46039f\"], [0.2222222222222222, \"#7201a8\"], [0.3333333333333333, \"#9c179e\"], [0.4444444444444444, \"#bd3786\"], [0.5555555555555556, \"#d8576b\"], [0.6666666666666666, \"#ed7953\"], [0.7777777777777778, \"#fb9f3a\"], [0.8888888888888888, \"#fdca26\"], [1.0, \"#f0f921\"]], \"type\": \"heatmapgl\"}], \"histogram\": [{\"marker\": {\"colorbar\": {\"outlinewidth\": 0, \"ticks\": \"\"}}, \"type\": \"histogram\"}], \"histogram2d\": [{\"colorbar\": {\"outlinewidth\": 0, \"ticks\": \"\"}, \"colorscale\": [[0.0, \"#0d0887\"], [0.1111111111111111, \"#46039f\"], [0.2222222222222222, \"#7201a8\"], [0.3333333333333333, \"#9c179e\"], [0.4444444444444444, \"#bd3786\"], [0.5555555555555556, \"#d8576b\"], [0.6666666666666666, \"#ed7953\"], [0.7777777777777778, \"#fb9f3a\"], [0.8888888888888888, \"#fdca26\"], [1.0, \"#f0f921\"]], \"type\": \"histogram2d\"}], \"histogram2dcontour\": [{\"colorbar\": {\"outlinewidth\": 0, \"ticks\": \"\"}, \"colorscale\": [[0.0, \"#0d0887\"], [0.1111111111111111, \"#46039f\"], [0.2222222222222222, \"#7201a8\"], [0.3333333333333333, \"#9c179e\"], [0.4444444444444444, \"#bd3786\"], [0.5555555555555556, \"#d8576b\"], [0.6666666666666666, \"#ed7953\"], [0.7777777777777778, \"#fb9f3a\"], [0.8888888888888888, \"#fdca26\"], [1.0, \"#f0f921\"]], \"type\": \"histogram2dcontour\"}], \"mesh3d\": [{\"colorbar\": {\"outlinewidth\": 0, \"ticks\": \"\"}, \"type\": \"mesh3d\"}], \"parcoords\": [{\"line\": {\"colorbar\": {\"outlinewidth\": 0, \"ticks\": \"\"}}, \"type\": \"parcoords\"}], \"pie\": [{\"automargin\": true, \"type\": \"pie\"}], \"scatter\": [{\"marker\": {\"colorbar\": {\"outlinewidth\": 0, \"ticks\": \"\"}}, \"type\": \"scatter\"}], \"scatter3d\": [{\"line\": {\"colorbar\": {\"outlinewidth\": 0, \"ticks\": \"\"}}, \"marker\": {\"colorbar\": {\"outlinewidth\": 0, \"ticks\": \"\"}}, \"type\": \"scatter3d\"}], \"scattercarpet\": [{\"marker\": {\"colorbar\": {\"outlinewidth\": 0, \"ticks\": \"\"}}, \"type\": \"scattercarpet\"}], \"scattergeo\": [{\"marker\": {\"colorbar\": {\"outlinewidth\": 0, \"ticks\": \"\"}}, \"type\": \"scattergeo\"}], \"scattergl\": [{\"marker\": {\"colorbar\": {\"outlinewidth\": 0, \"ticks\": \"\"}}, \"type\": \"scattergl\"}], \"scattermapbox\": [{\"marker\": {\"colorbar\": {\"outlinewidth\": 0, \"ticks\": \"\"}}, \"type\": \"scattermapbox\"}], \"scatterpolar\": [{\"marker\": {\"colorbar\": {\"outlinewidth\": 0, \"ticks\": \"\"}}, \"type\": \"scatterpolar\"}], \"scatterpolargl\": [{\"marker\": {\"colorbar\": {\"outlinewidth\": 0, \"ticks\": \"\"}}, \"type\": \"scatterpolargl\"}], \"scatterternary\": [{\"marker\": {\"colorbar\": {\"outlinewidth\": 0, \"ticks\": \"\"}}, \"type\": \"scatterternary\"}], \"surface\": [{\"colorbar\": {\"outlinewidth\": 0, \"ticks\": \"\"}, \"colorscale\": [[0.0, \"#0d0887\"], [0.1111111111111111, \"#46039f\"], [0.2222222222222222, \"#7201a8\"], [0.3333333333333333, \"#9c179e\"], [0.4444444444444444, \"#bd3786\"], [0.5555555555555556, \"#d8576b\"], [0.6666666666666666, \"#ed7953\"], [0.7777777777777778, \"#fb9f3a\"], [0.8888888888888888, \"#fdca26\"], [1.0, \"#f0f921\"]], \"type\": \"surface\"}], \"table\": [{\"cells\": {\"fill\": {\"color\": \"#EBF0F8\"}, \"line\": {\"color\": \"white\"}}, \"header\": {\"fill\": {\"color\": \"#C8D4E3\"}, \"line\": {\"color\": \"white\"}}, \"type\": \"table\"}]}, \"layout\": {\"annotationdefaults\": {\"arrowcolor\": \"#2a3f5f\", \"arrowhead\": 0, \"arrowwidth\": 1}, \"coloraxis\": {\"colorbar\": {\"outlinewidth\": 0, \"ticks\": \"\"}}, \"colorscale\": {\"diverging\": [[0, \"#8e0152\"], [0.1, \"#c51b7d\"], [0.2, \"#de77ae\"], [0.3, \"#f1b6da\"], [0.4, \"#fde0ef\"], [0.5, \"#f7f7f7\"], [0.6, \"#e6f5d0\"], [0.7, \"#b8e186\"], [0.8, \"#7fbc41\"], [0.9, \"#4d9221\"], [1, \"#276419\"]], \"sequential\": [[0.0, \"#0d0887\"], [0.1111111111111111, \"#46039f\"], [0.2222222222222222, \"#7201a8\"], [0.3333333333333333, \"#9c179e\"], [0.4444444444444444, \"#bd3786\"], [0.5555555555555556, \"#d8576b\"], [0.6666666666666666, \"#ed7953\"], [0.7777777777777778, \"#fb9f3a\"], [0.8888888888888888, \"#fdca26\"], [1.0, \"#f0f921\"]], \"sequentialminus\": [[0.0, \"#0d0887\"], [0.1111111111111111, \"#46039f\"], [0.2222222222222222, \"#7201a8\"], [0.3333333333333333, \"#9c179e\"], [0.4444444444444444, \"#bd3786\"], [0.5555555555555556, \"#d8576b\"], [0.6666666666666666, \"#ed7953\"], [0.7777777777777778, \"#fb9f3a\"], [0.8888888888888888, \"#fdca26\"], [1.0, \"#f0f921\"]]}, \"colorway\": [\"#636efa\", \"#EF553B\", \"#00cc96\", \"#ab63fa\", \"#FFA15A\", \"#19d3f3\", \"#FF6692\", \"#B6E880\", \"#FF97FF\", \"#FECB52\"], \"font\": {\"color\": \"#2a3f5f\"}, \"geo\": {\"bgcolor\": \"white\", \"lakecolor\": \"white\", \"landcolor\": \"#E5ECF6\", \"showlakes\": true, \"showland\": true, \"subunitcolor\": \"white\"}, \"hoverlabel\": {\"align\": \"left\"}, \"hovermode\": \"closest\", \"mapbox\": {\"style\": \"light\"}, \"paper_bgcolor\": \"white\", \"plot_bgcolor\": \"#E5ECF6\", \"polar\": {\"angularaxis\": {\"gridcolor\": \"white\", \"linecolor\": \"white\", \"ticks\": \"\"}, \"bgcolor\": \"#E5ECF6\", \"radialaxis\": {\"gridcolor\": \"white\", \"linecolor\": \"white\", \"ticks\": \"\"}}, \"scene\": {\"xaxis\": {\"backgroundcolor\": \"#E5ECF6\", \"gridcolor\": \"white\", \"gridwidth\": 2, \"linecolor\": \"white\", \"showbackground\": true, \"ticks\": \"\", \"zerolinecolor\": \"white\"}, \"yaxis\": {\"backgroundcolor\": \"#E5ECF6\", \"gridcolor\": \"white\", \"gridwidth\": 2, \"linecolor\": \"white\", \"showbackground\": true, \"ticks\": \"\", \"zerolinecolor\": \"white\"}, \"zaxis\": {\"backgroundcolor\": \"#E5ECF6\", \"gridcolor\": \"white\", \"gridwidth\": 2, \"linecolor\": \"white\", \"showbackground\": true, \"ticks\": \"\", \"zerolinecolor\": \"white\"}}, \"shapedefaults\": {\"line\": {\"color\": \"#2a3f5f\"}}, \"ternary\": {\"aaxis\": {\"gridcolor\": \"white\", \"linecolor\": \"white\", \"ticks\": \"\"}, \"baxis\": {\"gridcolor\": \"white\", \"linecolor\": \"white\", \"ticks\": \"\"}, \"bgcolor\": \"#E5ECF6\", \"caxis\": {\"gridcolor\": \"white\", \"linecolor\": \"white\", \"ticks\": \"\"}}, \"title\": {\"x\": 0.05}, \"xaxis\": {\"automargin\": true, \"gridcolor\": \"white\", \"linecolor\": \"white\", \"ticks\": \"\", \"title\": {\"standoff\": 15}, \"zerolinecolor\": \"white\", \"zerolinewidth\": 2}, \"yaxis\": {\"automargin\": true, \"gridcolor\": \"white\", \"linecolor\": \"white\", \"ticks\": \"\", \"title\": {\"standoff\": 15}, \"zerolinecolor\": \"white\", \"zerolinewidth\": 2}}}, \"title\": {\"text\": \"Robot in joint Configurations\"}, \"width\": 1000},\n",
              "                        {\"responsive\": true}\n",
              "                    ).then(function(){\n",
              "                            \n",
              "var gd = document.getElementById('328099e0-86c2-4696-a9ea-41f253b07282');\n",
              "var x = new MutationObserver(function (mutations, observer) {{\n",
              "        var display = window.getComputedStyle(gd).display;\n",
              "        if (!display || display === 'none') {{\n",
              "            console.log([gd, 'removed!']);\n",
              "            Plotly.purge(gd);\n",
              "            observer.disconnect();\n",
              "        }}\n",
              "}});\n",
              "\n",
              "// Listen for the removal of the full notebook cells\n",
              "var notebookContainer = gd.closest('#notebook-container');\n",
              "if (notebookContainer) {{\n",
              "    x.observe(notebookContainer, {childList: true});\n",
              "}}\n",
              "\n",
              "// Listen for the clearing of the current output cell\n",
              "var outputEl = gd.closest('.output');\n",
              "if (outputEl) {{\n",
              "    x.observe(outputEl, {childList: true});\n",
              "}}\n",
              "\n",
              "                        })\n",
              "                };\n",
              "                \n",
              "            </script>\n",
              "        </div>\n",
              "</body>\n",
              "</html>"
            ]
          },
          "metadata": {
            "tags": []
          }
        }
      ]
    },
    {
      "cell_type": "markdown",
      "metadata": {
        "id": "1wQ01sfDYoP2"
      },
      "source": [
        "##### Joint Space and Task Space Relationship"
      ]
    },
    {
      "cell_type": "code",
      "metadata": {
        "id": "pqjp-dCAY0LO"
      },
      "source": [
        "def task_space(FK:object, q, ):\r\n",
        "  \"\"\"\r\n",
        "  This function defines the relationship between the joint-space coordinate \r\n",
        "  vector q and the task-space coordinate vector t  \r\n",
        "  FK : The Forward Kinematics Function\r\n",
        "  q  : The robot joint variables that describes it's configuration\r\n",
        "  \"\"\"\r\n",
        "  TF = FK(joints)\r\n",
        "  R  = TF[:3,:3]\r\n",
        "\r\n",
        "  px, py, pz = TF[:3, -1]\r\n",
        "  rx, ry, rz = euler_angles(R)\r\n",
        "\r\n",
        "  return np.array([ px, py, pz, rx, ry, rz ])"
      ],
      "execution_count": null,
      "outputs": []
    },
    {
      "cell_type": "code",
      "metadata": {
        "id": "_Nd2CUGpEplw"
      },
      "source": [
        "\"\"\"\r\n",
        "The task Jacobian given the and the Transformation matrix at a givn time \r\n",
        "and the Geometric Jacobian at a given joint\r\n",
        "T : Transformation Matrix, a functon of ime only\r\n",
        "J : Geometric Jacobian dependent on the joint configuration\r\n",
        "q : Joint configuration \r\n",
        "\"\"\"\r\n",
        "# J_t = T(t) . J(q)"
      ],
      "execution_count": null,
      "outputs": []
    },
    {
      "cell_type": "code",
      "metadata": {
        "id": "QHGaIhHXEVht"
      },
      "source": [
        "\"\"\"\r\n",
        "The manipulability measure:\r\n",
        "This is a measure of distance from singularity points where the effect of \r\n",
        "singularity is still felt\r\n",
        "\r\n",
        "Recognised to be the product of the singular values of the task Jacobian\r\n",
        "As a result, its zeros correspond to the singularities\r\n",
        "\"\"\""
      ],
      "execution_count": null,
      "outputs": []
    },
    {
      "cell_type": "code",
      "metadata": {
        "id": "qRRgHVcVF9Ro"
      },
      "source": [
        "\"\"\"\r\n",
        "The condition number: \r\n",
        "Another measure of distance from a singularity\r\n",
        "\r\n",
        "Defined as \r\n",
        "k = sigma1/sigmaM\r\n",
        "\r\n",
        "Values ranging from 1 (equal singularity values) to infinity (singularity configurations) \r\n",
        "\"\"\""
      ],
      "execution_count": null,
      "outputs": []
    },
    {
      "cell_type": "code",
      "metadata": {
        "id": "GbrQL2ctHDBg"
      },
      "source": [
        "\"\"\"\r\n",
        "The smallest singular value: \r\n",
        "Another measure of distance from Singularity\r\n",
        "\r\n",
        "It changes more rapidly near singularities than the other singular values, it dominates\r\n",
        "there the behavior of the determinant and the condition number of the Jacobian matrix\r\n",
        "\r\n",
        "Considered to be the most effective measure of distance from singular configurations\r\n",
        "\"\"\""
      ],
      "execution_count": null,
      "outputs": []
    }
  ]
}